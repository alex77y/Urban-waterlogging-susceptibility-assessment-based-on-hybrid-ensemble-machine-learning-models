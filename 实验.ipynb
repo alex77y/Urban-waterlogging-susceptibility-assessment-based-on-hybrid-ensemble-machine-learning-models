{
 "cells": [
  {
   "cell_type": "code",
   "execution_count": 1,
   "id": "3ec8942d",
   "metadata": {},
   "outputs": [],
   "source": [
    "import pandas as pd\n",
    "import csv\n",
    "import geopandas as gpd\n",
    "import os\n",
    "import numpy as np\n",
    "import joblib\n",
    "from sklearn.metrics import f1_score\n",
    "from sklearn.metrics import roc_auc_score\n",
    "from sklearn.metrics import recall_score\n",
    "from sklearn.metrics import precision_score\n",
    "from sklearn.metrics import accuracy_score\n",
    "from sklearn.model_selection import cross_val_score\n",
    "from shapely.geometry import Point\n",
    "from sklearn.model_selection import train_test_split\n",
    "from sklearn.ensemble import RandomForestClassifier\n",
    "from sklearn.linear_model import LogisticRegression\n",
    "from sklearn.naive_bayes import GaussianNB\n",
    "from sklearn.svm import SVC\n",
    "from sklearn.svm import NuSVC\n",
    "import xgboost as xgb\n",
    "from sklearn.ensemble import AdaBoostClassifier\n",
    "from sklearn.pipeline import make_pipeline\n",
    "from sklearn.preprocessing import StandardScaler\n",
    "from sklearn.neighbors import KNeighborsClassifier\n",
    "from sklearn.ensemble import BaggingClassifier\n",
    "from sklearn.ensemble import StackingClassifier\n",
    "from sklearn.linear_model import LinearRegression\n",
    "from sklearn.tree import DecisionTreeClassifier\n",
    "from numpy import hstack\n",
    "from sklearn.model_selection import RandomizedSearchCV\n",
    "from sklearn.metrics import accuracy_score\n",
    "import pickle\n",
    "import matplotlib.pyplot as plt\n",
    "from sklearn import metrics\n",
    "\n",
    "# data = pd.read_csv(\"Train_full_attri.csv\")"
   ]
  },
  {
   "cell_type": "code",
   "execution_count": 2,
   "id": "bf1c067e",
   "metadata": {},
   "outputs": [],
   "source": [
    "X_train=pd.read_csv('SaveModel/X_train.csv').drop(columns=['Unnamed: 0']).to_numpy()\n",
    "X_test=pd.read_csv('SaveModel/X_test.csv').drop(columns=['Unnamed: 0']).to_numpy()\n",
    "y_train=pd.read_csv('SaveModel/y_train.csv').drop(columns=['Unnamed: 0']).to_numpy()\n",
    "y_test=pd.read_csv('SaveModel/y_test.csv').drop(columns=['Unnamed: 0']).to_numpy()"
   ]
  },
  {
   "cell_type": "raw",
   "id": "76694e4c",
   "metadata": {
    "scrolled": true
   },
   "source": [
    "data = gpd.read_file(r\"C:\\Users\\10125\\OneDrive - UW-Madison\\22 Summer\\Distance Experiment ALL\\points300.shp\")\n",
    "data = pd.DataFrame(data)\n",
    "data[\"Traffic\"] = data[\"Traffic\"].clip(lower =0)\n",
    "data[\"Population\"] = data[\"Population\"].clip(lower =0)\n",
    "#data[\"RoadClass2\"] = data[\"RoadClass2\"].clip(lower =0)\n",
    "#data[\"RoadClass1\"] = data[\"RoadClass1\"].clip(lower =0)\n",
    "data = data.drop(columns=['RoadClass2','RoadClass1'])\n",
    "#data = data.drop(columns=['dis2road'])\n",
    "#Aspect\tCurvature\tdem\tdis2riv\tdis2road\tFVC\tlandcover\tprecipit\tSlope\tTRI\tTWI\t"
   ]
  },
  {
   "cell_type": "markdown",
   "id": "57cce098",
   "metadata": {
    "scrolled": true
   },
   "source": [
    "X = data.iloc[:, 1:-1]\n",
    "y= data['label']\n",
    "X_train, X_test, y_train, y_test = train_test_split(X, y, test_size=0.3)"
   ]
  },
  {
   "cell_type": "markdown",
   "id": "90d6e252",
   "metadata": {},
   "source": [
    "X_train.to_csv('SaveModel/X_train.csv')\n",
    "X_test.to_csv('SaveModel/X_test.csv')\n",
    "y_train.to_csv('SaveModel/y_train.csv')\n",
    "y_test.to_csv('SaveModel/y_test.csv')"
   ]
  },
  {
   "cell_type": "code",
   "execution_count": 3,
   "id": "fa13eacc",
   "metadata": {
    "scrolled": true
   },
   "outputs": [
    {
     "name": "stdout",
     "output_type": "stream",
     "text": [
      "0.8875\n",
      "0.9246218487394958\n"
     ]
    },
    {
     "name": "stderr",
     "output_type": "stream",
     "text": [
      "<ipython-input-3-52597f00a9d4>:8: DataConversionWarning: A column-vector y was passed when a 1d array was expected. Please change the shape of y to (n_samples,), for example using ravel().\n",
      "  rf.fit(X_train, y_train)\n"
     ]
    }
   ],
   "source": [
    "rf = RandomForestClassifier(\n",
    "    n_estimators = 100,\n",
    "    max_features = 'auto',\n",
    "    min_samples_split =10,\n",
    "    min_samples_leaf =4,\n",
    "    bootstrap = True)\n",
    "#rf = RandomForestClassifier()\n",
    "rf.fit(X_train, y_train)\n",
    "\n",
    "y_pred = rf.predict(X_test)\n",
    "roc = roc_auc_score(y_test, rf.predict_proba(X_test)[:, 1])\n",
    "acc = accuracy_score(y_test,y_pred)\n",
    "print(acc)\n",
    "print(roc)\n"
   ]
  },
  {
   "cell_type": "code",
   "execution_count": 19,
   "id": "604308a5",
   "metadata": {
    "collapsed": true
   },
   "outputs": [
    {
     "name": "stderr",
     "output_type": "stream",
     "text": [
      "<ipython-input-19-bc7d162d786b>:6: DataConversionWarning: A column-vector y was passed when a 1d array was expected. Please change the shape of y to (n_samples,), for example using ravel().\n",
      "  rf.fit(X_train, y_train)\n",
      "<ipython-input-19-bc7d162d786b>:6: DataConversionWarning: A column-vector y was passed when a 1d array was expected. Please change the shape of y to (n_samples,), for example using ravel().\n",
      "  rf.fit(X_train, y_train)\n",
      "<ipython-input-19-bc7d162d786b>:6: DataConversionWarning: A column-vector y was passed when a 1d array was expected. Please change the shape of y to (n_samples,), for example using ravel().\n",
      "  rf.fit(X_train, y_train)\n",
      "<ipython-input-19-bc7d162d786b>:6: DataConversionWarning: A column-vector y was passed when a 1d array was expected. Please change the shape of y to (n_samples,), for example using ravel().\n",
      "  rf.fit(X_train, y_train)\n",
      "<ipython-input-19-bc7d162d786b>:6: DataConversionWarning: A column-vector y was passed when a 1d array was expected. Please change the shape of y to (n_samples,), for example using ravel().\n",
      "  rf.fit(X_train, y_train)\n",
      "<ipython-input-19-bc7d162d786b>:6: DataConversionWarning: A column-vector y was passed when a 1d array was expected. Please change the shape of y to (n_samples,), for example using ravel().\n",
      "  rf.fit(X_train, y_train)\n",
      "<ipython-input-19-bc7d162d786b>:6: DataConversionWarning: A column-vector y was passed when a 1d array was expected. Please change the shape of y to (n_samples,), for example using ravel().\n",
      "  rf.fit(X_train, y_train)\n",
      "<ipython-input-19-bc7d162d786b>:6: DataConversionWarning: A column-vector y was passed when a 1d array was expected. Please change the shape of y to (n_samples,), for example using ravel().\n",
      "  rf.fit(X_train, y_train)\n",
      "<ipython-input-19-bc7d162d786b>:6: DataConversionWarning: A column-vector y was passed when a 1d array was expected. Please change the shape of y to (n_samples,), for example using ravel().\n",
      "  rf.fit(X_train, y_train)\n",
      "<ipython-input-19-bc7d162d786b>:6: DataConversionWarning: A column-vector y was passed when a 1d array was expected. Please change the shape of y to (n_samples,), for example using ravel().\n",
      "  rf.fit(X_train, y_train)\n",
      "<ipython-input-19-bc7d162d786b>:6: DataConversionWarning: A column-vector y was passed when a 1d array was expected. Please change the shape of y to (n_samples,), for example using ravel().\n",
      "  rf.fit(X_train, y_train)\n",
      "<ipython-input-19-bc7d162d786b>:6: DataConversionWarning: A column-vector y was passed when a 1d array was expected. Please change the shape of y to (n_samples,), for example using ravel().\n",
      "  rf.fit(X_train, y_train)\n",
      "<ipython-input-19-bc7d162d786b>:6: DataConversionWarning: A column-vector y was passed when a 1d array was expected. Please change the shape of y to (n_samples,), for example using ravel().\n",
      "  rf.fit(X_train, y_train)\n",
      "<ipython-input-19-bc7d162d786b>:6: DataConversionWarning: A column-vector y was passed when a 1d array was expected. Please change the shape of y to (n_samples,), for example using ravel().\n",
      "  rf.fit(X_train, y_train)\n",
      "<ipython-input-19-bc7d162d786b>:6: DataConversionWarning: A column-vector y was passed when a 1d array was expected. Please change the shape of y to (n_samples,), for example using ravel().\n",
      "  rf.fit(X_train, y_train)\n",
      "<ipython-input-19-bc7d162d786b>:6: DataConversionWarning: A column-vector y was passed when a 1d array was expected. Please change the shape of y to (n_samples,), for example using ravel().\n",
      "  rf.fit(X_train, y_train)\n",
      "<ipython-input-19-bc7d162d786b>:6: DataConversionWarning: A column-vector y was passed when a 1d array was expected. Please change the shape of y to (n_samples,), for example using ravel().\n",
      "  rf.fit(X_train, y_train)\n",
      "<ipython-input-19-bc7d162d786b>:6: DataConversionWarning: A column-vector y was passed when a 1d array was expected. Please change the shape of y to (n_samples,), for example using ravel().\n",
      "  rf.fit(X_train, y_train)\n",
      "<ipython-input-19-bc7d162d786b>:6: DataConversionWarning: A column-vector y was passed when a 1d array was expected. Please change the shape of y to (n_samples,), for example using ravel().\n",
      "  rf.fit(X_train, y_train)\n",
      "<ipython-input-19-bc7d162d786b>:6: DataConversionWarning: A column-vector y was passed when a 1d array was expected. Please change the shape of y to (n_samples,), for example using ravel().\n",
      "  rf.fit(X_train, y_train)\n",
      "<ipython-input-19-bc7d162d786b>:6: DataConversionWarning: A column-vector y was passed when a 1d array was expected. Please change the shape of y to (n_samples,), for example using ravel().\n",
      "  rf.fit(X_train, y_train)\n",
      "<ipython-input-19-bc7d162d786b>:6: DataConversionWarning: A column-vector y was passed when a 1d array was expected. Please change the shape of y to (n_samples,), for example using ravel().\n",
      "  rf.fit(X_train, y_train)\n",
      "<ipython-input-19-bc7d162d786b>:6: DataConversionWarning: A column-vector y was passed when a 1d array was expected. Please change the shape of y to (n_samples,), for example using ravel().\n",
      "  rf.fit(X_train, y_train)\n",
      "<ipython-input-19-bc7d162d786b>:6: DataConversionWarning: A column-vector y was passed when a 1d array was expected. Please change the shape of y to (n_samples,), for example using ravel().\n",
      "  rf.fit(X_train, y_train)\n",
      "<ipython-input-19-bc7d162d786b>:6: DataConversionWarning: A column-vector y was passed when a 1d array was expected. Please change the shape of y to (n_samples,), for example using ravel().\n",
      "  rf.fit(X_train, y_train)\n",
      "<ipython-input-19-bc7d162d786b>:6: DataConversionWarning: A column-vector y was passed when a 1d array was expected. Please change the shape of y to (n_samples,), for example using ravel().\n",
      "  rf.fit(X_train, y_train)\n",
      "<ipython-input-19-bc7d162d786b>:6: DataConversionWarning: A column-vector y was passed when a 1d array was expected. Please change the shape of y to (n_samples,), for example using ravel().\n",
      "  rf.fit(X_train, y_train)\n",
      "<ipython-input-19-bc7d162d786b>:6: DataConversionWarning: A column-vector y was passed when a 1d array was expected. Please change the shape of y to (n_samples,), for example using ravel().\n",
      "  rf.fit(X_train, y_train)\n",
      "<ipython-input-19-bc7d162d786b>:6: DataConversionWarning: A column-vector y was passed when a 1d array was expected. Please change the shape of y to (n_samples,), for example using ravel().\n",
      "  rf.fit(X_train, y_train)\n",
      "<ipython-input-19-bc7d162d786b>:6: DataConversionWarning: A column-vector y was passed when a 1d array was expected. Please change the shape of y to (n_samples,), for example using ravel().\n",
      "  rf.fit(X_train, y_train)\n"
     ]
    },
    {
     "name": "stdout",
     "output_type": "stream",
     "text": [
      "0.9296638655462185\n"
     ]
    }
   ],
   "source": [
    "rf_result = []\n",
    "rf_roc = []\n",
    "rf_acc = []\n",
    "for i in range(30):\n",
    "    rf = RandomForestClassifier()\n",
    "    rf.fit(X_train, y_train)\n",
    "\n",
    "    y_pred = rf.predict(X_test)\n",
    "    prob = rf.predict_proba(X_test)[:, 1]\n",
    "    rf_result.append(prob)\n",
    "    roc = roc_auc_score(y_test, prob)\n",
    "    acc = accuracy_score(y_test,y_pred)\n",
    "    rf_roc.append(roc)\n",
    "    rf_acc.append(acc)\n",
    "print(roc)"
   ]
  },
  {
   "cell_type": "code",
   "execution_count": 20,
   "id": "47f4cfe4",
   "metadata": {},
   "outputs": [
    {
     "name": "stdout",
     "output_type": "stream",
     "text": [
      "max roc 0.9367226890756302 max acc 0.9041666666666667\n"
     ]
    }
   ],
   "source": [
    "print('max roc',max(rf_roc),\n",
    "        'max acc',max(rf_acc))\n",
    "rf_max_result = rf_result[rf_roc.index(max(rf_roc))]"
   ]
  },
  {
   "cell_type": "code",
   "execution_count": 52,
   "id": "0ebea26d",
   "metadata": {},
   "outputs": [
    {
     "data": {
      "text/plain": [
       "0.8958333333333334"
      ]
     },
     "execution_count": 52,
     "metadata": {},
     "output_type": "execute_result"
    }
   ],
   "source": [
    "rf_acc[rf_roc.index(max(rf_roc))]"
   ]
  },
  {
   "cell_type": "code",
   "execution_count": 24,
   "id": "6d4af591",
   "metadata": {
    "scrolled": true
   },
   "outputs": [
    {
     "name": "stdout",
     "output_type": "stream",
     "text": [
      "0.6791666666666667\n",
      "0.8336974789915966\n"
     ]
    },
    {
     "name": "stderr",
     "output_type": "stream",
     "text": [
      "C:\\ProgramData\\Anaconda3\\envs\\arcgis\\lib\\site-packages\\sklearn\\utils\\validation.py:993: DataConversionWarning: A column-vector y was passed when a 1d array was expected. Please change the shape of y to (n_samples, ), for example using ravel().\n",
      "  y = column_or_1d(y, warn=True)\n"
     ]
    }
   ],
   "source": [
    "from sklearn.naive_bayes import GaussianNB\n",
    "NB = GaussianNB()\n",
    "NB.fit(X_train, y_train)\n",
    "y_pred = NB.predict(X_test)\n",
    "acc=accuracy_score(y_pred,y_test)\n",
    "roc = roc_auc_score(y_test, NB.predict_proba(X_test)[:, 1])\n",
    "print(acc)\n",
    "print(roc)\n",
    "NB_pred = NB.predict_proba(X_test)[:, 1]"
   ]
  },
  {
   "cell_type": "code",
   "execution_count": 113,
   "id": "292d7259",
   "metadata": {
    "scrolled": true
   },
   "outputs": [
    {
     "name": "stderr",
     "output_type": "stream",
     "text": [
      "C:\\ProgramData\\Anaconda3\\envs\\arcgis\\lib\\site-packages\\sklearn\\utils\\validation.py:993: DataConversionWarning: A column-vector y was passed when a 1d array was expected. Please change the shape of y to (n_samples, ), for example using ravel().\n",
      "  y = column_or_1d(y, warn=True)\n"
     ]
    },
    {
     "name": "stdout",
     "output_type": "stream",
     "text": [
      "0.7833333333333333\n",
      "0.6378571428571428\n"
     ]
    }
   ],
   "source": [
    "from sklearn.svm import SVC\n",
    "from sklearn.pipeline import make_pipeline\n",
    "from sklearn.preprocessing import StandardScaler\n",
    "clf = SVC(C=1,gamma='auto', probability=True)\n",
    "\n",
    "clf.fit(X_train, y_train)\n",
    "\n",
    "y_pred = clf.predict(X_test)\n",
    "acc=accuracy_score(y_pred,y_test)\n",
    "roc = roc_auc_score(y_test, clf.predict_proba(X_test)[:, 1])\n",
    "print(acc)\n",
    "print(roc)\n",
    "SVC_pred = clf.predict_proba(X_test)[:, 1]"
   ]
  },
  {
   "cell_type": "code",
   "execution_count": 26,
   "id": "28ca0394",
   "metadata": {},
   "outputs": [
    {
     "name": "stdout",
     "output_type": "stream",
     "text": [
      "0.8041666666666667\n",
      "0.8383193277310924\n"
     ]
    },
    {
     "name": "stderr",
     "output_type": "stream",
     "text": [
      "C:\\ProgramData\\Anaconda3\\envs\\arcgis\\lib\\site-packages\\sklearn\\utils\\validation.py:993: DataConversionWarning: A column-vector y was passed when a 1d array was expected. Please change the shape of y to (n_samples, ), for example using ravel().\n",
      "  y = column_or_1d(y, warn=True)\n"
     ]
    }
   ],
   "source": [
    "from sklearn.svm import NuSVC\n",
    "\n",
    "Linear = make_pipeline(StandardScaler(),\n",
    "                       NuSVC(nu=0.15,probability=True))\n",
    "Linear.fit(X_train,y_train)\n",
    "y_pred = Linear.predict(X_test)\n",
    "acc=accuracy_score(y_pred,y_test)\n",
    "roc = roc_auc_score(y_test, Linear.predict_proba(X_test)[:, 1])\n",
    "print(acc)\n",
    "print(roc)\n",
    "NuSVC_pred = Linear.predict_proba(X_test)[:, 1]"
   ]
  },
  {
   "cell_type": "raw",
   "id": "66110102",
   "metadata": {},
   "source": [
    "for i in range(200,501,50):\n",
    "    adb = AdaBoostClassifier(base_estimator=DecisionTreeClassifier(max_depth=3),n_estimators=i)\n",
    "    adb.fit(X_train,y_train)\n",
    "    \n",
    "    y_pred = adb.predict(X_test)\n",
    "    acc = accuracy_score(y_test,y_pred)\n",
    "    roc = roc_auc_score(y_test, adb.predict_proba(X_test)[:, 1])\n",
    "    print(i,acc,roc)"
   ]
  },
  {
   "cell_type": "code",
   "execution_count": 27,
   "id": "c4db86a2",
   "metadata": {
    "scrolled": true
   },
   "outputs": [
    {
     "name": "stderr",
     "output_type": "stream",
     "text": [
      "C:\\ProgramData\\Anaconda3\\envs\\arcgis\\lib\\site-packages\\sklearn\\utils\\validation.py:993: DataConversionWarning: A column-vector y was passed when a 1d array was expected. Please change the shape of y to (n_samples, ), for example using ravel().\n",
      "  y = column_or_1d(y, warn=True)\n",
      "C:\\ProgramData\\Anaconda3\\envs\\arcgis\\lib\\site-packages\\sklearn\\utils\\validation.py:993: DataConversionWarning: A column-vector y was passed when a 1d array was expected. Please change the shape of y to (n_samples, ), for example using ravel().\n",
      "  y = column_or_1d(y, warn=True)\n",
      "C:\\ProgramData\\Anaconda3\\envs\\arcgis\\lib\\site-packages\\sklearn\\utils\\validation.py:993: DataConversionWarning: A column-vector y was passed when a 1d array was expected. Please change the shape of y to (n_samples, ), for example using ravel().\n",
      "  y = column_or_1d(y, warn=True)\n",
      "C:\\ProgramData\\Anaconda3\\envs\\arcgis\\lib\\site-packages\\sklearn\\utils\\validation.py:993: DataConversionWarning: A column-vector y was passed when a 1d array was expected. Please change the shape of y to (n_samples, ), for example using ravel().\n",
      "  y = column_or_1d(y, warn=True)\n",
      "C:\\ProgramData\\Anaconda3\\envs\\arcgis\\lib\\site-packages\\sklearn\\utils\\validation.py:993: DataConversionWarning: A column-vector y was passed when a 1d array was expected. Please change the shape of y to (n_samples, ), for example using ravel().\n",
      "  y = column_or_1d(y, warn=True)\n",
      "C:\\ProgramData\\Anaconda3\\envs\\arcgis\\lib\\site-packages\\sklearn\\utils\\validation.py:993: DataConversionWarning: A column-vector y was passed when a 1d array was expected. Please change the shape of y to (n_samples, ), for example using ravel().\n",
      "  y = column_or_1d(y, warn=True)\n",
      "C:\\ProgramData\\Anaconda3\\envs\\arcgis\\lib\\site-packages\\sklearn\\utils\\validation.py:993: DataConversionWarning: A column-vector y was passed when a 1d array was expected. Please change the shape of y to (n_samples, ), for example using ravel().\n",
      "  y = column_or_1d(y, warn=True)\n",
      "C:\\ProgramData\\Anaconda3\\envs\\arcgis\\lib\\site-packages\\sklearn\\utils\\validation.py:993: DataConversionWarning: A column-vector y was passed when a 1d array was expected. Please change the shape of y to (n_samples, ), for example using ravel().\n",
      "  y = column_or_1d(y, warn=True)\n",
      "C:\\ProgramData\\Anaconda3\\envs\\arcgis\\lib\\site-packages\\sklearn\\utils\\validation.py:993: DataConversionWarning: A column-vector y was passed when a 1d array was expected. Please change the shape of y to (n_samples, ), for example using ravel().\n",
      "  y = column_or_1d(y, warn=True)\n",
      "C:\\ProgramData\\Anaconda3\\envs\\arcgis\\lib\\site-packages\\sklearn\\utils\\validation.py:993: DataConversionWarning: A column-vector y was passed when a 1d array was expected. Please change the shape of y to (n_samples, ), for example using ravel().\n",
      "  y = column_or_1d(y, warn=True)\n",
      "C:\\ProgramData\\Anaconda3\\envs\\arcgis\\lib\\site-packages\\sklearn\\utils\\validation.py:993: DataConversionWarning: A column-vector y was passed when a 1d array was expected. Please change the shape of y to (n_samples, ), for example using ravel().\n",
      "  y = column_or_1d(y, warn=True)\n",
      "C:\\ProgramData\\Anaconda3\\envs\\arcgis\\lib\\site-packages\\sklearn\\utils\\validation.py:993: DataConversionWarning: A column-vector y was passed when a 1d array was expected. Please change the shape of y to (n_samples, ), for example using ravel().\n",
      "  y = column_or_1d(y, warn=True)\n",
      "C:\\ProgramData\\Anaconda3\\envs\\arcgis\\lib\\site-packages\\sklearn\\utils\\validation.py:993: DataConversionWarning: A column-vector y was passed when a 1d array was expected. Please change the shape of y to (n_samples, ), for example using ravel().\n",
      "  y = column_or_1d(y, warn=True)\n",
      "C:\\ProgramData\\Anaconda3\\envs\\arcgis\\lib\\site-packages\\sklearn\\utils\\validation.py:993: DataConversionWarning: A column-vector y was passed when a 1d array was expected. Please change the shape of y to (n_samples, ), for example using ravel().\n",
      "  y = column_or_1d(y, warn=True)\n",
      "C:\\ProgramData\\Anaconda3\\envs\\arcgis\\lib\\site-packages\\sklearn\\utils\\validation.py:993: DataConversionWarning: A column-vector y was passed when a 1d array was expected. Please change the shape of y to (n_samples, ), for example using ravel().\n",
      "  y = column_or_1d(y, warn=True)\n",
      "C:\\ProgramData\\Anaconda3\\envs\\arcgis\\lib\\site-packages\\sklearn\\utils\\validation.py:993: DataConversionWarning: A column-vector y was passed when a 1d array was expected. Please change the shape of y to (n_samples, ), for example using ravel().\n",
      "  y = column_or_1d(y, warn=True)\n",
      "C:\\ProgramData\\Anaconda3\\envs\\arcgis\\lib\\site-packages\\sklearn\\utils\\validation.py:993: DataConversionWarning: A column-vector y was passed when a 1d array was expected. Please change the shape of y to (n_samples, ), for example using ravel().\n",
      "  y = column_or_1d(y, warn=True)\n",
      "C:\\ProgramData\\Anaconda3\\envs\\arcgis\\lib\\site-packages\\sklearn\\utils\\validation.py:993: DataConversionWarning: A column-vector y was passed when a 1d array was expected. Please change the shape of y to (n_samples, ), for example using ravel().\n",
      "  y = column_or_1d(y, warn=True)\n",
      "C:\\ProgramData\\Anaconda3\\envs\\arcgis\\lib\\site-packages\\sklearn\\utils\\validation.py:993: DataConversionWarning: A column-vector y was passed when a 1d array was expected. Please change the shape of y to (n_samples, ), for example using ravel().\n",
      "  y = column_or_1d(y, warn=True)\n",
      "C:\\ProgramData\\Anaconda3\\envs\\arcgis\\lib\\site-packages\\sklearn\\utils\\validation.py:993: DataConversionWarning: A column-vector y was passed when a 1d array was expected. Please change the shape of y to (n_samples, ), for example using ravel().\n",
      "  y = column_or_1d(y, warn=True)\n",
      "C:\\ProgramData\\Anaconda3\\envs\\arcgis\\lib\\site-packages\\sklearn\\utils\\validation.py:993: DataConversionWarning: A column-vector y was passed when a 1d array was expected. Please change the shape of y to (n_samples, ), for example using ravel().\n",
      "  y = column_or_1d(y, warn=True)\n",
      "C:\\ProgramData\\Anaconda3\\envs\\arcgis\\lib\\site-packages\\sklearn\\utils\\validation.py:993: DataConversionWarning: A column-vector y was passed when a 1d array was expected. Please change the shape of y to (n_samples, ), for example using ravel().\n",
      "  y = column_or_1d(y, warn=True)\n",
      "C:\\ProgramData\\Anaconda3\\envs\\arcgis\\lib\\site-packages\\sklearn\\utils\\validation.py:993: DataConversionWarning: A column-vector y was passed when a 1d array was expected. Please change the shape of y to (n_samples, ), for example using ravel().\n",
      "  y = column_or_1d(y, warn=True)\n",
      "C:\\ProgramData\\Anaconda3\\envs\\arcgis\\lib\\site-packages\\sklearn\\utils\\validation.py:993: DataConversionWarning: A column-vector y was passed when a 1d array was expected. Please change the shape of y to (n_samples, ), for example using ravel().\n",
      "  y = column_or_1d(y, warn=True)\n",
      "C:\\ProgramData\\Anaconda3\\envs\\arcgis\\lib\\site-packages\\sklearn\\utils\\validation.py:993: DataConversionWarning: A column-vector y was passed when a 1d array was expected. Please change the shape of y to (n_samples, ), for example using ravel().\n",
      "  y = column_or_1d(y, warn=True)\n",
      "C:\\ProgramData\\Anaconda3\\envs\\arcgis\\lib\\site-packages\\sklearn\\utils\\validation.py:993: DataConversionWarning: A column-vector y was passed when a 1d array was expected. Please change the shape of y to (n_samples, ), for example using ravel().\n",
      "  y = column_or_1d(y, warn=True)\n",
      "C:\\ProgramData\\Anaconda3\\envs\\arcgis\\lib\\site-packages\\sklearn\\utils\\validation.py:993: DataConversionWarning: A column-vector y was passed when a 1d array was expected. Please change the shape of y to (n_samples, ), for example using ravel().\n",
      "  y = column_or_1d(y, warn=True)\n",
      "C:\\ProgramData\\Anaconda3\\envs\\arcgis\\lib\\site-packages\\sklearn\\utils\\validation.py:993: DataConversionWarning: A column-vector y was passed when a 1d array was expected. Please change the shape of y to (n_samples, ), for example using ravel().\n",
      "  y = column_or_1d(y, warn=True)\n",
      "C:\\ProgramData\\Anaconda3\\envs\\arcgis\\lib\\site-packages\\sklearn\\utils\\validation.py:993: DataConversionWarning: A column-vector y was passed when a 1d array was expected. Please change the shape of y to (n_samples, ), for example using ravel().\n",
      "  y = column_or_1d(y, warn=True)\n",
      "C:\\ProgramData\\Anaconda3\\envs\\arcgis\\lib\\site-packages\\sklearn\\utils\\validation.py:993: DataConversionWarning: A column-vector y was passed when a 1d array was expected. Please change the shape of y to (n_samples, ), for example using ravel().\n",
      "  y = column_or_1d(y, warn=True)\n"
     ]
    },
    {
     "name": "stdout",
     "output_type": "stream",
     "text": [
      "0.9023529411764706\n"
     ]
    }
   ],
   "source": [
    "ab_result = []\n",
    "ab_roc = []\n",
    "ab_acc = []\n",
    "for i in range(30):\n",
    "    adb = AdaBoostClassifier(base_estimator=DecisionTreeClassifier(max_depth=3),n_estimators=400)\n",
    "    adb.fit(X_train,y_train)\n",
    "\n",
    "    y_pred = adb.predict(X_test)\n",
    "    prob = adb.predict_proba(X_test)[:, 1]\n",
    "    ab_result.append(prob)\n",
    "    roc = roc_auc_score(y_test, prob)\n",
    "    ab_roc.append(roc)\n",
    "    acc = accuracy_score(y_test,y_pred)\n",
    "    ab_acc.append(acc)\n",
    "print(roc)"
   ]
  },
  {
   "cell_type": "code",
   "execution_count": 28,
   "id": "b66288ac",
   "metadata": {},
   "outputs": [
    {
     "name": "stdout",
     "output_type": "stream",
     "text": [
      "max roc 0.934705882352941 max acc 0.8875\n"
     ]
    }
   ],
   "source": [
    "print('max roc',max(ab_roc),\n",
    "        'max acc',max(ab_acc))\n",
    "ab_max_result = ab_result[ab_roc.index(max(ab_roc))]"
   ]
  },
  {
   "cell_type": "code",
   "execution_count": 53,
   "id": "dbec5e10",
   "metadata": {},
   "outputs": [
    {
     "data": {
      "text/plain": [
       "0.8833333333333333"
      ]
     },
     "execution_count": 53,
     "metadata": {},
     "output_type": "execute_result"
    }
   ],
   "source": [
    "ab_acc[ab_roc.index(max(ab_roc))]"
   ]
  },
  {
   "cell_type": "markdown",
   "id": "b1c1fdfb",
   "metadata": {},
   "source": [
    "filename = 'SaveModel1/ADBoost.sav'\n",
    "pickle.dump(clf, open(filename, 'wb'))"
   ]
  },
  {
   "cell_type": "code",
   "execution_count": 29,
   "id": "dbfe5bf4",
   "metadata": {
    "scrolled": true
   },
   "outputs": [
    {
     "name": "stdout",
     "output_type": "stream",
     "text": [
      "0.8791666666666667\n",
      "0.9175630252100841\n"
     ]
    }
   ],
   "source": [
    "import xgboost as xgb\n",
    "xgbo = xgb.XGBClassifier(objective=\"binary:logistic\", max_depth =3,n_estimators=200)\n",
    "xgbo.fit(X_train,y_train)\n",
    "\n",
    "y_pred = xgbo.predict(X_test)\n",
    "acc=accuracy_score(y_pred,y_test)\n",
    "roc = roc_auc_score(y_test, xgbo.predict_proba(X_test)[:, 1])\n",
    "print(acc)\n",
    "\n",
    "print(roc)"
   ]
  },
  {
   "cell_type": "code",
   "execution_count": 30,
   "id": "7b2e6ea9",
   "metadata": {},
   "outputs": [],
   "source": [
    "XGB_pred = xgbo.predict_proba(X_test)[:, 1]"
   ]
  },
  {
   "cell_type": "raw",
   "id": "c5cf5e50",
   "metadata": {},
   "source": [
    "filename = 'SaveModel1/XGB.sav'\n",
    "pickle.dump(xgbo, open(filename, 'wb'))"
   ]
  },
  {
   "cell_type": "code",
   "execution_count": 33,
   "id": "8b0e34aa",
   "metadata": {},
   "outputs": [
    {
     "name": "stdout",
     "output_type": "stream",
     "text": [
      "0.8416666666666667\n",
      "0.8322689075630252\n"
     ]
    },
    {
     "name": "stderr",
     "output_type": "stream",
     "text": [
      "C:\\ProgramData\\Anaconda3\\envs\\arcgis\\lib\\site-packages\\sklearn\\utils\\validation.py:993: DataConversionWarning: A column-vector y was passed when a 1d array was expected. Please change the shape of y to (n_samples, ), for example using ravel().\n",
      "  y = column_or_1d(y, warn=True)\n",
      "C:\\ProgramData\\Anaconda3\\envs\\arcgis\\lib\\site-packages\\sklearn\\linear_model\\_logistic.py:814: ConvergenceWarning: lbfgs failed to converge (status=1):\n",
      "STOP: TOTAL NO. of ITERATIONS REACHED LIMIT.\n",
      "\n",
      "Increase the number of iterations (max_iter) or scale the data as shown in:\n",
      "    https://scikit-learn.org/stable/modules/preprocessing.html\n",
      "Please also refer to the documentation for alternative solver options:\n",
      "    https://scikit-learn.org/stable/modules/linear_model.html#logistic-regression\n",
      "  n_iter_i = _check_optimize_result(\n"
     ]
    }
   ],
   "source": [
    "clf = LogisticRegression(C=1)\n",
    "clf.fit(X_train,y_train)\n",
    "y_pred = clf.predict(X_test)\n",
    "acc=accuracy_score(y_pred,y_test)\n",
    "roc = roc_auc_score(y_test, clf.predict_proba(X_test)[:, 1])\n",
    "print(acc)\n",
    "print(roc)\n",
    "LOG_pred = clf.predict_proba(X_test)[:, 1]"
   ]
  },
  {
   "cell_type": "code",
   "execution_count": 34,
   "id": "9d7a5dd0",
   "metadata": {},
   "outputs": [
    {
     "name": "stdout",
     "output_type": "stream",
     "text": [
      "0.6916666666666667 0.6886974789915966\n"
     ]
    },
    {
     "name": "stderr",
     "output_type": "stream",
     "text": [
      "C:\\ProgramData\\Anaconda3\\envs\\arcgis\\lib\\site-packages\\sklearn\\neighbors\\_classification.py:198: DataConversionWarning: A column-vector y was passed when a 1d array was expected. Please change the shape of y to (n_samples,), for example using ravel().\n",
      "  return self._fit(X, y)\n"
     ]
    }
   ],
   "source": [
    "knn = KNeighborsClassifier(n_neighbors=5)\n",
    "knn.fit(X_train,y_train)\n",
    "y_pred = knn.predict(X_test)\n",
    "acc=accuracy_score(y_pred,y_test)\n",
    "roc = roc_auc_score(y_test, knn.predict_proba(X_test)[:, 1])\n",
    "print(acc,roc)\n",
    "knn_pred=knn.predict_proba(X_test)[:, 1]"
   ]
  },
  {
   "cell_type": "raw",
   "id": "ef36d657",
   "metadata": {},
   "source": [
    "filename = 'SaveModel/LOGIT.sav'\n",
    "pickle.dump(clf, open(filename, 'wb'))"
   ]
  },
  {
   "cell_type": "code",
   "execution_count": 35,
   "id": "c96e951f",
   "metadata": {},
   "outputs": [
    {
     "name": "stderr",
     "output_type": "stream",
     "text": [
      "C:\\ProgramData\\Anaconda3\\envs\\arcgis\\lib\\site-packages\\sklearn\\preprocessing\\_label.py:98: DataConversionWarning: A column-vector y was passed when a 1d array was expected. Please change the shape of y to (n_samples, ), for example using ravel().\n",
      "  y = column_or_1d(y, warn=True)\n",
      "C:\\ProgramData\\Anaconda3\\envs\\arcgis\\lib\\site-packages\\sklearn\\preprocessing\\_label.py:133: DataConversionWarning: A column-vector y was passed when a 1d array was expected. Please change the shape of y to (n_samples, ), for example using ravel().\n",
      "  y = column_or_1d(y, warn=True)\n"
     ]
    },
    {
     "name": "stdout",
     "output_type": "stream",
     "text": [
      "0.8916666666666667\n",
      "0.9297478991596639\n"
     ]
    }
   ],
   "source": [
    "estimators = [ #('svm',make_pipeline(StandardScaler(),NuSVC(nu=0.15,probability=True))),\n",
    "                 #('NB',GaussianNB()),\n",
    "              #('KNN',KNeighborsClassifier(n_neighbors=2)),\n",
    "              ('rf', RandomForestClassifier()),\n",
    "              ('adb',AdaBoostClassifier(base_estimator=DecisionTreeClassifier(max_depth=3),n_estimators=400)),\n",
    "              #('xgb',xgb.XGBClassifier(objective=\"binary:logistic\", max_depth =3,n_estimators=200)),\n",
    "            #(\"gbt\",GradientBoostingClassifier(n_estimators=76,learning_rate=1.0,max_depth=1))\n",
    "               #('log',LogisticRegression())\n",
    "             ]\n",
    "stacking = StackingClassifier(            \n",
    "    estimators, final_estimator =LogisticRegression())\n",
    "stacking.fit(X_train,y_train)\n",
    "y_pred = stacking.predict(X_test)\n",
    "roc = roc_auc_score(y_test, stacking.predict_proba(X_test)[:, 1])\n",
    "acc = accuracy_score(y_test,y_pred)\n",
    "print(acc)\n",
    "print(roc)\n"
   ]
  },
  {
   "cell_type": "code",
   "execution_count": 36,
   "id": "52427deb",
   "metadata": {},
   "outputs": [
    {
     "name": "stderr",
     "output_type": "stream",
     "text": [
      "C:\\ProgramData\\Anaconda3\\envs\\arcgis\\lib\\site-packages\\sklearn\\preprocessing\\_label.py:98: DataConversionWarning: A column-vector y was passed when a 1d array was expected. Please change the shape of y to (n_samples, ), for example using ravel().\n",
      "  y = column_or_1d(y, warn=True)\n",
      "C:\\ProgramData\\Anaconda3\\envs\\arcgis\\lib\\site-packages\\sklearn\\preprocessing\\_label.py:133: DataConversionWarning: A column-vector y was passed when a 1d array was expected. Please change the shape of y to (n_samples, ), for example using ravel().\n",
      "  y = column_or_1d(y, warn=True)\n",
      "C:\\ProgramData\\Anaconda3\\envs\\arcgis\\lib\\site-packages\\sklearn\\preprocessing\\_label.py:98: DataConversionWarning: A column-vector y was passed when a 1d array was expected. Please change the shape of y to (n_samples, ), for example using ravel().\n",
      "  y = column_or_1d(y, warn=True)\n",
      "C:\\ProgramData\\Anaconda3\\envs\\arcgis\\lib\\site-packages\\sklearn\\preprocessing\\_label.py:133: DataConversionWarning: A column-vector y was passed when a 1d array was expected. Please change the shape of y to (n_samples, ), for example using ravel().\n",
      "  y = column_or_1d(y, warn=True)\n",
      "C:\\ProgramData\\Anaconda3\\envs\\arcgis\\lib\\site-packages\\sklearn\\preprocessing\\_label.py:98: DataConversionWarning: A column-vector y was passed when a 1d array was expected. Please change the shape of y to (n_samples, ), for example using ravel().\n",
      "  y = column_or_1d(y, warn=True)\n",
      "C:\\ProgramData\\Anaconda3\\envs\\arcgis\\lib\\site-packages\\sklearn\\preprocessing\\_label.py:133: DataConversionWarning: A column-vector y was passed when a 1d array was expected. Please change the shape of y to (n_samples, ), for example using ravel().\n",
      "  y = column_or_1d(y, warn=True)\n",
      "C:\\ProgramData\\Anaconda3\\envs\\arcgis\\lib\\site-packages\\sklearn\\preprocessing\\_label.py:98: DataConversionWarning: A column-vector y was passed when a 1d array was expected. Please change the shape of y to (n_samples, ), for example using ravel().\n",
      "  y = column_or_1d(y, warn=True)\n",
      "C:\\ProgramData\\Anaconda3\\envs\\arcgis\\lib\\site-packages\\sklearn\\preprocessing\\_label.py:133: DataConversionWarning: A column-vector y was passed when a 1d array was expected. Please change the shape of y to (n_samples, ), for example using ravel().\n",
      "  y = column_or_1d(y, warn=True)\n",
      "C:\\ProgramData\\Anaconda3\\envs\\arcgis\\lib\\site-packages\\sklearn\\preprocessing\\_label.py:98: DataConversionWarning: A column-vector y was passed when a 1d array was expected. Please change the shape of y to (n_samples, ), for example using ravel().\n",
      "  y = column_or_1d(y, warn=True)\n",
      "C:\\ProgramData\\Anaconda3\\envs\\arcgis\\lib\\site-packages\\sklearn\\preprocessing\\_label.py:133: DataConversionWarning: A column-vector y was passed when a 1d array was expected. Please change the shape of y to (n_samples, ), for example using ravel().\n",
      "  y = column_or_1d(y, warn=True)\n",
      "C:\\ProgramData\\Anaconda3\\envs\\arcgis\\lib\\site-packages\\sklearn\\preprocessing\\_label.py:98: DataConversionWarning: A column-vector y was passed when a 1d array was expected. Please change the shape of y to (n_samples, ), for example using ravel().\n",
      "  y = column_or_1d(y, warn=True)\n",
      "C:\\ProgramData\\Anaconda3\\envs\\arcgis\\lib\\site-packages\\sklearn\\preprocessing\\_label.py:133: DataConversionWarning: A column-vector y was passed when a 1d array was expected. Please change the shape of y to (n_samples, ), for example using ravel().\n",
      "  y = column_or_1d(y, warn=True)\n",
      "C:\\ProgramData\\Anaconda3\\envs\\arcgis\\lib\\site-packages\\sklearn\\preprocessing\\_label.py:98: DataConversionWarning: A column-vector y was passed when a 1d array was expected. Please change the shape of y to (n_samples, ), for example using ravel().\n",
      "  y = column_or_1d(y, warn=True)\n",
      "C:\\ProgramData\\Anaconda3\\envs\\arcgis\\lib\\site-packages\\sklearn\\preprocessing\\_label.py:133: DataConversionWarning: A column-vector y was passed when a 1d array was expected. Please change the shape of y to (n_samples, ), for example using ravel().\n",
      "  y = column_or_1d(y, warn=True)\n",
      "C:\\ProgramData\\Anaconda3\\envs\\arcgis\\lib\\site-packages\\sklearn\\preprocessing\\_label.py:98: DataConversionWarning: A column-vector y was passed when a 1d array was expected. Please change the shape of y to (n_samples, ), for example using ravel().\n",
      "  y = column_or_1d(y, warn=True)\n",
      "C:\\ProgramData\\Anaconda3\\envs\\arcgis\\lib\\site-packages\\sklearn\\preprocessing\\_label.py:133: DataConversionWarning: A column-vector y was passed when a 1d array was expected. Please change the shape of y to (n_samples, ), for example using ravel().\n",
      "  y = column_or_1d(y, warn=True)\n",
      "C:\\ProgramData\\Anaconda3\\envs\\arcgis\\lib\\site-packages\\sklearn\\preprocessing\\_label.py:98: DataConversionWarning: A column-vector y was passed when a 1d array was expected. Please change the shape of y to (n_samples, ), for example using ravel().\n",
      "  y = column_or_1d(y, warn=True)\n",
      "C:\\ProgramData\\Anaconda3\\envs\\arcgis\\lib\\site-packages\\sklearn\\preprocessing\\_label.py:133: DataConversionWarning: A column-vector y was passed when a 1d array was expected. Please change the shape of y to (n_samples, ), for example using ravel().\n",
      "  y = column_or_1d(y, warn=True)\n",
      "C:\\ProgramData\\Anaconda3\\envs\\arcgis\\lib\\site-packages\\sklearn\\preprocessing\\_label.py:98: DataConversionWarning: A column-vector y was passed when a 1d array was expected. Please change the shape of y to (n_samples, ), for example using ravel().\n",
      "  y = column_or_1d(y, warn=True)\n",
      "C:\\ProgramData\\Anaconda3\\envs\\arcgis\\lib\\site-packages\\sklearn\\preprocessing\\_label.py:133: DataConversionWarning: A column-vector y was passed when a 1d array was expected. Please change the shape of y to (n_samples, ), for example using ravel().\n",
      "  y = column_or_1d(y, warn=True)\n",
      "C:\\ProgramData\\Anaconda3\\envs\\arcgis\\lib\\site-packages\\sklearn\\preprocessing\\_label.py:98: DataConversionWarning: A column-vector y was passed when a 1d array was expected. Please change the shape of y to (n_samples, ), for example using ravel().\n",
      "  y = column_or_1d(y, warn=True)\n",
      "C:\\ProgramData\\Anaconda3\\envs\\arcgis\\lib\\site-packages\\sklearn\\preprocessing\\_label.py:133: DataConversionWarning: A column-vector y was passed when a 1d array was expected. Please change the shape of y to (n_samples, ), for example using ravel().\n",
      "  y = column_or_1d(y, warn=True)\n",
      "C:\\ProgramData\\Anaconda3\\envs\\arcgis\\lib\\site-packages\\sklearn\\preprocessing\\_label.py:98: DataConversionWarning: A column-vector y was passed when a 1d array was expected. Please change the shape of y to (n_samples, ), for example using ravel().\n",
      "  y = column_or_1d(y, warn=True)\n",
      "C:\\ProgramData\\Anaconda3\\envs\\arcgis\\lib\\site-packages\\sklearn\\preprocessing\\_label.py:133: DataConversionWarning: A column-vector y was passed when a 1d array was expected. Please change the shape of y to (n_samples, ), for example using ravel().\n",
      "  y = column_or_1d(y, warn=True)\n",
      "C:\\ProgramData\\Anaconda3\\envs\\arcgis\\lib\\site-packages\\sklearn\\preprocessing\\_label.py:98: DataConversionWarning: A column-vector y was passed when a 1d array was expected. Please change the shape of y to (n_samples, ), for example using ravel().\n",
      "  y = column_or_1d(y, warn=True)\n",
      "C:\\ProgramData\\Anaconda3\\envs\\arcgis\\lib\\site-packages\\sklearn\\preprocessing\\_label.py:133: DataConversionWarning: A column-vector y was passed when a 1d array was expected. Please change the shape of y to (n_samples, ), for example using ravel().\n",
      "  y = column_or_1d(y, warn=True)\n",
      "C:\\ProgramData\\Anaconda3\\envs\\arcgis\\lib\\site-packages\\sklearn\\preprocessing\\_label.py:98: DataConversionWarning: A column-vector y was passed when a 1d array was expected. Please change the shape of y to (n_samples, ), for example using ravel().\n",
      "  y = column_or_1d(y, warn=True)\n",
      "C:\\ProgramData\\Anaconda3\\envs\\arcgis\\lib\\site-packages\\sklearn\\preprocessing\\_label.py:133: DataConversionWarning: A column-vector y was passed when a 1d array was expected. Please change the shape of y to (n_samples, ), for example using ravel().\n",
      "  y = column_or_1d(y, warn=True)\n",
      "C:\\ProgramData\\Anaconda3\\envs\\arcgis\\lib\\site-packages\\sklearn\\preprocessing\\_label.py:98: DataConversionWarning: A column-vector y was passed when a 1d array was expected. Please change the shape of y to (n_samples, ), for example using ravel().\n",
      "  y = column_or_1d(y, warn=True)\n",
      "C:\\ProgramData\\Anaconda3\\envs\\arcgis\\lib\\site-packages\\sklearn\\preprocessing\\_label.py:133: DataConversionWarning: A column-vector y was passed when a 1d array was expected. Please change the shape of y to (n_samples, ), for example using ravel().\n",
      "  y = column_or_1d(y, warn=True)\n"
     ]
    },
    {
     "name": "stderr",
     "output_type": "stream",
     "text": [
      "C:\\ProgramData\\Anaconda3\\envs\\arcgis\\lib\\site-packages\\sklearn\\preprocessing\\_label.py:98: DataConversionWarning: A column-vector y was passed when a 1d array was expected. Please change the shape of y to (n_samples, ), for example using ravel().\n",
      "  y = column_or_1d(y, warn=True)\n",
      "C:\\ProgramData\\Anaconda3\\envs\\arcgis\\lib\\site-packages\\sklearn\\preprocessing\\_label.py:133: DataConversionWarning: A column-vector y was passed when a 1d array was expected. Please change the shape of y to (n_samples, ), for example using ravel().\n",
      "  y = column_or_1d(y, warn=True)\n",
      "C:\\ProgramData\\Anaconda3\\envs\\arcgis\\lib\\site-packages\\sklearn\\preprocessing\\_label.py:98: DataConversionWarning: A column-vector y was passed when a 1d array was expected. Please change the shape of y to (n_samples, ), for example using ravel().\n",
      "  y = column_or_1d(y, warn=True)\n",
      "C:\\ProgramData\\Anaconda3\\envs\\arcgis\\lib\\site-packages\\sklearn\\preprocessing\\_label.py:133: DataConversionWarning: A column-vector y was passed when a 1d array was expected. Please change the shape of y to (n_samples, ), for example using ravel().\n",
      "  y = column_or_1d(y, warn=True)\n",
      "C:\\ProgramData\\Anaconda3\\envs\\arcgis\\lib\\site-packages\\sklearn\\preprocessing\\_label.py:98: DataConversionWarning: A column-vector y was passed when a 1d array was expected. Please change the shape of y to (n_samples, ), for example using ravel().\n",
      "  y = column_or_1d(y, warn=True)\n",
      "C:\\ProgramData\\Anaconda3\\envs\\arcgis\\lib\\site-packages\\sklearn\\preprocessing\\_label.py:133: DataConversionWarning: A column-vector y was passed when a 1d array was expected. Please change the shape of y to (n_samples, ), for example using ravel().\n",
      "  y = column_or_1d(y, warn=True)\n",
      "C:\\ProgramData\\Anaconda3\\envs\\arcgis\\lib\\site-packages\\sklearn\\preprocessing\\_label.py:98: DataConversionWarning: A column-vector y was passed when a 1d array was expected. Please change the shape of y to (n_samples, ), for example using ravel().\n",
      "  y = column_or_1d(y, warn=True)\n",
      "C:\\ProgramData\\Anaconda3\\envs\\arcgis\\lib\\site-packages\\sklearn\\preprocessing\\_label.py:133: DataConversionWarning: A column-vector y was passed when a 1d array was expected. Please change the shape of y to (n_samples, ), for example using ravel().\n",
      "  y = column_or_1d(y, warn=True)\n",
      "C:\\ProgramData\\Anaconda3\\envs\\arcgis\\lib\\site-packages\\sklearn\\preprocessing\\_label.py:98: DataConversionWarning: A column-vector y was passed when a 1d array was expected. Please change the shape of y to (n_samples, ), for example using ravel().\n",
      "  y = column_or_1d(y, warn=True)\n",
      "C:\\ProgramData\\Anaconda3\\envs\\arcgis\\lib\\site-packages\\sklearn\\preprocessing\\_label.py:133: DataConversionWarning: A column-vector y was passed when a 1d array was expected. Please change the shape of y to (n_samples, ), for example using ravel().\n",
      "  y = column_or_1d(y, warn=True)\n",
      "C:\\ProgramData\\Anaconda3\\envs\\arcgis\\lib\\site-packages\\sklearn\\preprocessing\\_label.py:98: DataConversionWarning: A column-vector y was passed when a 1d array was expected. Please change the shape of y to (n_samples, ), for example using ravel().\n",
      "  y = column_or_1d(y, warn=True)\n",
      "C:\\ProgramData\\Anaconda3\\envs\\arcgis\\lib\\site-packages\\sklearn\\preprocessing\\_label.py:133: DataConversionWarning: A column-vector y was passed when a 1d array was expected. Please change the shape of y to (n_samples, ), for example using ravel().\n",
      "  y = column_or_1d(y, warn=True)\n",
      "C:\\ProgramData\\Anaconda3\\envs\\arcgis\\lib\\site-packages\\sklearn\\preprocessing\\_label.py:98: DataConversionWarning: A column-vector y was passed when a 1d array was expected. Please change the shape of y to (n_samples, ), for example using ravel().\n",
      "  y = column_or_1d(y, warn=True)\n",
      "C:\\ProgramData\\Anaconda3\\envs\\arcgis\\lib\\site-packages\\sklearn\\preprocessing\\_label.py:133: DataConversionWarning: A column-vector y was passed when a 1d array was expected. Please change the shape of y to (n_samples, ), for example using ravel().\n",
      "  y = column_or_1d(y, warn=True)\n",
      "C:\\ProgramData\\Anaconda3\\envs\\arcgis\\lib\\site-packages\\sklearn\\preprocessing\\_label.py:98: DataConversionWarning: A column-vector y was passed when a 1d array was expected. Please change the shape of y to (n_samples, ), for example using ravel().\n",
      "  y = column_or_1d(y, warn=True)\n",
      "C:\\ProgramData\\Anaconda3\\envs\\arcgis\\lib\\site-packages\\sklearn\\preprocessing\\_label.py:133: DataConversionWarning: A column-vector y was passed when a 1d array was expected. Please change the shape of y to (n_samples, ), for example using ravel().\n",
      "  y = column_or_1d(y, warn=True)\n",
      "C:\\ProgramData\\Anaconda3\\envs\\arcgis\\lib\\site-packages\\sklearn\\preprocessing\\_label.py:98: DataConversionWarning: A column-vector y was passed when a 1d array was expected. Please change the shape of y to (n_samples, ), for example using ravel().\n",
      "  y = column_or_1d(y, warn=True)\n",
      "C:\\ProgramData\\Anaconda3\\envs\\arcgis\\lib\\site-packages\\sklearn\\preprocessing\\_label.py:133: DataConversionWarning: A column-vector y was passed when a 1d array was expected. Please change the shape of y to (n_samples, ), for example using ravel().\n",
      "  y = column_or_1d(y, warn=True)\n",
      "C:\\ProgramData\\Anaconda3\\envs\\arcgis\\lib\\site-packages\\sklearn\\preprocessing\\_label.py:98: DataConversionWarning: A column-vector y was passed when a 1d array was expected. Please change the shape of y to (n_samples, ), for example using ravel().\n",
      "  y = column_or_1d(y, warn=True)\n",
      "C:\\ProgramData\\Anaconda3\\envs\\arcgis\\lib\\site-packages\\sklearn\\preprocessing\\_label.py:133: DataConversionWarning: A column-vector y was passed when a 1d array was expected. Please change the shape of y to (n_samples, ), for example using ravel().\n",
      "  y = column_or_1d(y, warn=True)\n",
      "C:\\ProgramData\\Anaconda3\\envs\\arcgis\\lib\\site-packages\\sklearn\\preprocessing\\_label.py:98: DataConversionWarning: A column-vector y was passed when a 1d array was expected. Please change the shape of y to (n_samples, ), for example using ravel().\n",
      "  y = column_or_1d(y, warn=True)\n",
      "C:\\ProgramData\\Anaconda3\\envs\\arcgis\\lib\\site-packages\\sklearn\\preprocessing\\_label.py:133: DataConversionWarning: A column-vector y was passed when a 1d array was expected. Please change the shape of y to (n_samples, ), for example using ravel().\n",
      "  y = column_or_1d(y, warn=True)\n",
      "C:\\ProgramData\\Anaconda3\\envs\\arcgis\\lib\\site-packages\\sklearn\\preprocessing\\_label.py:98: DataConversionWarning: A column-vector y was passed when a 1d array was expected. Please change the shape of y to (n_samples, ), for example using ravel().\n",
      "  y = column_or_1d(y, warn=True)\n",
      "C:\\ProgramData\\Anaconda3\\envs\\arcgis\\lib\\site-packages\\sklearn\\preprocessing\\_label.py:133: DataConversionWarning: A column-vector y was passed when a 1d array was expected. Please change the shape of y to (n_samples, ), for example using ravel().\n",
      "  y = column_or_1d(y, warn=True)\n",
      "C:\\ProgramData\\Anaconda3\\envs\\arcgis\\lib\\site-packages\\sklearn\\preprocessing\\_label.py:98: DataConversionWarning: A column-vector y was passed when a 1d array was expected. Please change the shape of y to (n_samples, ), for example using ravel().\n",
      "  y = column_or_1d(y, warn=True)\n",
      "C:\\ProgramData\\Anaconda3\\envs\\arcgis\\lib\\site-packages\\sklearn\\preprocessing\\_label.py:133: DataConversionWarning: A column-vector y was passed when a 1d array was expected. Please change the shape of y to (n_samples, ), for example using ravel().\n",
      "  y = column_or_1d(y, warn=True)\n",
      "C:\\ProgramData\\Anaconda3\\envs\\arcgis\\lib\\site-packages\\sklearn\\preprocessing\\_label.py:98: DataConversionWarning: A column-vector y was passed when a 1d array was expected. Please change the shape of y to (n_samples, ), for example using ravel().\n",
      "  y = column_or_1d(y, warn=True)\n",
      "C:\\ProgramData\\Anaconda3\\envs\\arcgis\\lib\\site-packages\\sklearn\\preprocessing\\_label.py:133: DataConversionWarning: A column-vector y was passed when a 1d array was expected. Please change the shape of y to (n_samples, ), for example using ravel().\n",
      "  y = column_or_1d(y, warn=True)\n",
      "C:\\ProgramData\\Anaconda3\\envs\\arcgis\\lib\\site-packages\\sklearn\\preprocessing\\_label.py:98: DataConversionWarning: A column-vector y was passed when a 1d array was expected. Please change the shape of y to (n_samples, ), for example using ravel().\n",
      "  y = column_or_1d(y, warn=True)\n",
      "C:\\ProgramData\\Anaconda3\\envs\\arcgis\\lib\\site-packages\\sklearn\\preprocessing\\_label.py:133: DataConversionWarning: A column-vector y was passed when a 1d array was expected. Please change the shape of y to (n_samples, ), for example using ravel().\n",
      "  y = column_or_1d(y, warn=True)\n"
     ]
    }
   ],
   "source": [
    "st_result = []\n",
    "st_roc = []\n",
    "st_acc = []\n",
    "for i in range(30):\n",
    "    stacking = StackingClassifier(            \n",
    "    estimators, final_estimator =LogisticRegression())\n",
    "    stacking.fit(X_train,y_train)\n",
    "    y_pred = stacking.predict(X_test)\n",
    "    prob = stacking.predict_proba(X_test)[:, 1]\n",
    "    st_result.append(prob)\n",
    "    roc = roc_auc_score(y_test, stacking.predict_proba(X_test)[:, 1])\n",
    "    st_roc.append(roc)\n",
    "    acc = accuracy_score(y_test,y_pred)\n",
    "    st_acc.append(acc)\n"
   ]
  },
  {
   "cell_type": "code",
   "execution_count": 37,
   "id": "f5db93c8",
   "metadata": {},
   "outputs": [
    {
     "name": "stdout",
     "output_type": "stream",
     "text": [
      "max roc 0.9431932773109244 max acc 0.9\n"
     ]
    }
   ],
   "source": [
    "print('max roc',max(st_roc),\n",
    "        'max acc',max(st_acc))\n",
    "st_max_result = st_result[st_roc.index(max(st_roc))]"
   ]
  },
  {
   "cell_type": "code",
   "execution_count": 54,
   "id": "c5e713ff",
   "metadata": {},
   "outputs": [
    {
     "data": {
      "text/plain": [
       "0.9"
      ]
     },
     "execution_count": 54,
     "metadata": {},
     "output_type": "execute_result"
    }
   ],
   "source": [
    "st_acc[st_roc.index(max(st_roc))]"
   ]
  },
  {
   "cell_type": "code",
   "execution_count": 70,
   "id": "4b2debd6",
   "metadata": {},
   "outputs": [],
   "source": [
    "from statistics import stdev"
   ]
  },
  {
   "cell_type": "code",
   "execution_count": 71,
   "id": "0798b81c",
   "metadata": {},
   "outputs": [
    {
     "name": "stdout",
     "output_type": "stream",
     "text": [
      "0.9335518207282913\n",
      "0.004795476005234203\n"
     ]
    }
   ],
   "source": [
    "print(sum(st_roc)/len(st_roc))\n",
    "print(stdev(st_roc))"
   ]
  },
  {
   "cell_type": "code",
   "execution_count": 72,
   "id": "a461afb6",
   "metadata": {},
   "outputs": [
    {
     "name": "stdout",
     "output_type": "stream",
     "text": [
      "0.9326918767507002\n",
      "0.005307897569663093\n"
     ]
    }
   ],
   "source": [
    "print(sum(bl_roc)/len(bl_roc))\n",
    "print(stdev(bl_roc))"
   ]
  },
  {
   "cell_type": "code",
   "execution_count": 73,
   "id": "b96fd625",
   "metadata": {},
   "outputs": [
    {
     "name": "stdout",
     "output_type": "stream",
     "text": [
      "0.9292324929971987\n",
      "0.005098256008671099\n"
     ]
    }
   ],
   "source": [
    "print(sum(rf_roc)/len(rf_roc))\n",
    "print(stdev(rf_roc))"
   ]
  },
  {
   "cell_type": "code",
   "execution_count": 74,
   "id": "8b2bd3da",
   "metadata": {},
   "outputs": [
    {
     "name": "stdout",
     "output_type": "stream",
     "text": [
      "0.9154649859943977\n",
      "0.00811371239783336\n"
     ]
    }
   ],
   "source": [
    "print(sum(ab_roc)/len(ab_roc))\n",
    "print(stdev(ab_roc))"
   ]
  },
  {
   "cell_type": "code",
   "execution_count": 75,
   "id": "42171bbd",
   "metadata": {},
   "outputs": [
    {
     "name": "stdout",
     "output_type": "stream",
     "text": [
      "0.8949999999999997\n",
      "0.0035287543524158004\n"
     ]
    }
   ],
   "source": [
    "print(sum(st_acc)/len(st_acc))\n",
    "print(stdev(st_acc))"
   ]
  },
  {
   "cell_type": "code",
   "execution_count": 76,
   "id": "87654aac",
   "metadata": {},
   "outputs": [
    {
     "name": "stdout",
     "output_type": "stream",
     "text": [
      "0.894583333333333\n",
      "0.004259033671631641\n"
     ]
    }
   ],
   "source": [
    "print(sum(bl_acc)/len(bl_acc))\n",
    "print(stdev(bl_acc))"
   ]
  },
  {
   "cell_type": "code",
   "execution_count": 77,
   "id": "ea6f7479",
   "metadata": {},
   "outputs": [
    {
     "name": "stdout",
     "output_type": "stream",
     "text": [
      "0.8952777777777775\n",
      "0.003748137042573366\n"
     ]
    }
   ],
   "source": [
    "print(sum(rf_acc)/len(rf_acc))\n",
    "print(stdev(rf_acc))"
   ]
  },
  {
   "cell_type": "code",
   "execution_count": 78,
   "id": "28e29346",
   "metadata": {},
   "outputs": [
    {
     "name": "stdout",
     "output_type": "stream",
     "text": [
      "0.8718055555555556\n",
      "0.009581979747818903\n"
     ]
    }
   ],
   "source": [
    "print(sum(ab_acc)/len(ab_acc))\n",
    "print(stdev(ab_acc))"
   ]
  },
  {
   "cell_type": "markdown",
   "id": "3b8ad9c0",
   "metadata": {},
   "source": [
    "filename = 'SaveModel/LOG2.sav'\n",
    "pickle.dump(stacking, open(filename, 'wb'))"
   ]
  },
  {
   "cell_type": "markdown",
   "id": "3baa4b52",
   "metadata": {},
   "source": [
    "filename = 'SaveModel/SVM2.sav'\n",
    "pickle.dump(stacking, open(filename, 'wb'))"
   ]
  },
  {
   "cell_type": "code",
   "execution_count": null,
   "id": "22c1fdd8",
   "metadata": {},
   "outputs": [],
   "source": []
  },
  {
   "cell_type": "code",
   "execution_count": 38,
   "id": "80a5e25f",
   "metadata": {
    "scrolled": true
   },
   "outputs": [
    {
     "name": "stderr",
     "output_type": "stream",
     "text": [
      "<ipython-input-38-ae7508d30235>:14: DataConversionWarning: A column-vector y was passed when a 1d array was expected. Please change the shape of y to (n_samples,), for example using ravel().\n",
      "  model.fit(X_train, y_train)\n",
      "C:\\ProgramData\\Anaconda3\\envs\\arcgis\\lib\\site-packages\\sklearn\\utils\\validation.py:993: DataConversionWarning: A column-vector y was passed when a 1d array was expected. Please change the shape of y to (n_samples, ), for example using ravel().\n",
      "  y = column_or_1d(y, warn=True)\n"
     ]
    },
    {
     "name": "stdout",
     "output_type": "stream",
     "text": [
      "0.8916666666666667 0.9307563025210084\n"
     ]
    },
    {
     "name": "stderr",
     "output_type": "stream",
     "text": [
      "C:\\ProgramData\\Anaconda3\\envs\\arcgis\\lib\\site-packages\\sklearn\\utils\\validation.py:993: DataConversionWarning: A column-vector y was passed when a 1d array was expected. Please change the shape of y to (n_samples, ), for example using ravel().\n",
      "  y = column_or_1d(y, warn=True)\n"
     ]
    }
   ],
   "source": [
    "def get_models():\n",
    "    models = list()\n",
    "    models.append(('rf', RandomForestClassifier()))\n",
    "    models.append(('adb',AdaBoostClassifier(base_estimator=DecisionTreeClassifier(max_depth=3),n_estimators=400)))\n",
    "    #models.append(('xgb',xgb.XGBClassifier(objective=\"binary:logistic\", max_depth =3,n_estimators=30)))\n",
    "    #models.append(('log',LogisticRegression()))\n",
    "    return models\n",
    "\n",
    "def fit_ensemble(models, X_train, X_val, y_train, y_val):\n",
    "    # fit all models on the training set and predict on hold out set\n",
    "    meta_X = list()\n",
    "    for name, model in models:\n",
    "        # fit in training set\n",
    "        model.fit(X_train, y_train)\n",
    "        # predict on hold out set\n",
    "        yhat = model.predict_proba(X_val)[:, 1]\n",
    "        ypred = model.predict(X_val)\n",
    "        #print(name)\n",
    "        #print(accuracy_score(y_val, ypred), roc_auc_score(y_val, yhat))\n",
    "        # reshape predictions into a matrix with one column\n",
    "        yhat = yhat.reshape(len(yhat), 1)\n",
    "        # store predictions as input for blending\n",
    "        meta_X.append(yhat)\n",
    "    # create 2d array from predictions, each set is an input feature\n",
    "    meta_X = hstack(meta_X)\n",
    "    # define blending model\n",
    "    blender = LogisticRegression()\n",
    "    # fit on predictions from base models\n",
    "    blender.fit(meta_X, y_val)\n",
    "    return blender\n",
    "\n",
    "# make a prediction with the blending ensemble\n",
    "def predict_ensemble(models, blender, X_test):\n",
    " # make predictions with base models\n",
    "    meta_X = list()\n",
    "    for name, model in models:\n",
    "        # predict with base model\n",
    "        yhat = model.predict_proba(X_test)[:, 1]\n",
    " # reshape predictions into a matrix with one column\n",
    "        yhat = yhat.reshape(len(yhat), 1)\n",
    "        # store prediction\n",
    "        meta_X.append(yhat)\n",
    "    # create 2d array from predictions, each set is an input feature\n",
    "    meta_X = hstack(meta_X)\n",
    "\t# predict\n",
    "    return blender.predict_proba(meta_X)[:, 1]\n",
    "\n",
    "models = get_models()\n",
    "blender = fit_ensemble(models, X_train, X_test, y_train, y_test)\n",
    "blender_prediction = predict_ensemble(models, blender, X_test)\n",
    "y_pred = blender_prediction>0.5\n",
    "y_pred = [int(x) for x in y_pred]\n",
    "acc = accuracy_score(y_test,y_pred)\n",
    "\n",
    "roc = roc_auc_score(y_test, blender_prediction)\n",
    "print(acc,roc)"
   ]
  },
  {
   "cell_type": "raw",
   "id": "b942cddb",
   "metadata": {},
   "source": [
    "\n",
    "for i in range(30):\n",
    "#     models = get_models()\n",
    "#     blender = fit_ensemble(models, X_train, X_test, y_train, y_test)\n",
    "#     blender_prediction = predict_ensemble(models, blender, X_test)\n",
    "#     y_pred = blender_prediction>0.5\n",
    "#     y_pred = [int(x) for x in y_pred]\n",
    "    model = StackingClassifier(            \n",
    "    estimators, final_estimator =LogisticRegression())\n",
    "    model.fit(X_train,y_train)\n",
    "    y_pred = model.predict(X_test)\n",
    "    acc = accuracy_score(y_test,y_pred)\n",
    "    roc = roc_auc_score(y_test, model.predict_proba(X_test)[:, 1])\n",
    "    acc_list.append(acc)\n",
    "    roc_list.append(roc)"
   ]
  },
  {
   "cell_type": "code",
   "execution_count": 44,
   "id": "2fcdcf3e",
   "metadata": {
    "scrolled": true
   },
   "outputs": [
    {
     "name": "stderr",
     "output_type": "stream",
     "text": [
      "<ipython-input-38-ae7508d30235>:14: DataConversionWarning: A column-vector y was passed when a 1d array was expected. Please change the shape of y to (n_samples,), for example using ravel().\n",
      "  model.fit(X_train, y_train)\n",
      "C:\\ProgramData\\Anaconda3\\envs\\arcgis\\lib\\site-packages\\sklearn\\utils\\validation.py:993: DataConversionWarning: A column-vector y was passed when a 1d array was expected. Please change the shape of y to (n_samples, ), for example using ravel().\n",
      "  y = column_or_1d(y, warn=True)\n",
      "C:\\ProgramData\\Anaconda3\\envs\\arcgis\\lib\\site-packages\\sklearn\\utils\\validation.py:993: DataConversionWarning: A column-vector y was passed when a 1d array was expected. Please change the shape of y to (n_samples, ), for example using ravel().\n",
      "  y = column_or_1d(y, warn=True)\n",
      "<ipython-input-38-ae7508d30235>:14: DataConversionWarning: A column-vector y was passed when a 1d array was expected. Please change the shape of y to (n_samples,), for example using ravel().\n",
      "  model.fit(X_train, y_train)\n"
     ]
    },
    {
     "name": "stdout",
     "output_type": "stream",
     "text": [
      "0.9384033613445378\n"
     ]
    },
    {
     "name": "stderr",
     "output_type": "stream",
     "text": [
      "C:\\ProgramData\\Anaconda3\\envs\\arcgis\\lib\\site-packages\\sklearn\\utils\\validation.py:993: DataConversionWarning: A column-vector y was passed when a 1d array was expected. Please change the shape of y to (n_samples, ), for example using ravel().\n",
      "  y = column_or_1d(y, warn=True)\n",
      "C:\\ProgramData\\Anaconda3\\envs\\arcgis\\lib\\site-packages\\sklearn\\utils\\validation.py:993: DataConversionWarning: A column-vector y was passed when a 1d array was expected. Please change the shape of y to (n_samples, ), for example using ravel().\n",
      "  y = column_or_1d(y, warn=True)\n",
      "<ipython-input-38-ae7508d30235>:14: DataConversionWarning: A column-vector y was passed when a 1d array was expected. Please change the shape of y to (n_samples,), for example using ravel().\n",
      "  model.fit(X_train, y_train)\n"
     ]
    },
    {
     "name": "stdout",
     "output_type": "stream",
     "text": [
      "0.9311764705882353\n"
     ]
    },
    {
     "name": "stderr",
     "output_type": "stream",
     "text": [
      "C:\\ProgramData\\Anaconda3\\envs\\arcgis\\lib\\site-packages\\sklearn\\utils\\validation.py:993: DataConversionWarning: A column-vector y was passed when a 1d array was expected. Please change the shape of y to (n_samples, ), for example using ravel().\n",
      "  y = column_or_1d(y, warn=True)\n",
      "C:\\ProgramData\\Anaconda3\\envs\\arcgis\\lib\\site-packages\\sklearn\\utils\\validation.py:993: DataConversionWarning: A column-vector y was passed when a 1d array was expected. Please change the shape of y to (n_samples, ), for example using ravel().\n",
      "  y = column_or_1d(y, warn=True)\n",
      "<ipython-input-38-ae7508d30235>:14: DataConversionWarning: A column-vector y was passed when a 1d array was expected. Please change the shape of y to (n_samples,), for example using ravel().\n",
      "  model.fit(X_train, y_train)\n"
     ]
    },
    {
     "name": "stdout",
     "output_type": "stream",
     "text": [
      "0.9396638655462185\n"
     ]
    },
    {
     "name": "stderr",
     "output_type": "stream",
     "text": [
      "C:\\ProgramData\\Anaconda3\\envs\\arcgis\\lib\\site-packages\\sklearn\\utils\\validation.py:993: DataConversionWarning: A column-vector y was passed when a 1d array was expected. Please change the shape of y to (n_samples, ), for example using ravel().\n",
      "  y = column_or_1d(y, warn=True)\n",
      "C:\\ProgramData\\Anaconda3\\envs\\arcgis\\lib\\site-packages\\sklearn\\utils\\validation.py:993: DataConversionWarning: A column-vector y was passed when a 1d array was expected. Please change the shape of y to (n_samples, ), for example using ravel().\n",
      "  y = column_or_1d(y, warn=True)\n",
      "<ipython-input-38-ae7508d30235>:14: DataConversionWarning: A column-vector y was passed when a 1d array was expected. Please change the shape of y to (n_samples,), for example using ravel().\n",
      "  model.fit(X_train, y_train)\n"
     ]
    },
    {
     "name": "stdout",
     "output_type": "stream",
     "text": [
      "0.923109243697479\n"
     ]
    },
    {
     "name": "stderr",
     "output_type": "stream",
     "text": [
      "C:\\ProgramData\\Anaconda3\\envs\\arcgis\\lib\\site-packages\\sklearn\\utils\\validation.py:993: DataConversionWarning: A column-vector y was passed when a 1d array was expected. Please change the shape of y to (n_samples, ), for example using ravel().\n",
      "  y = column_or_1d(y, warn=True)\n",
      "C:\\ProgramData\\Anaconda3\\envs\\arcgis\\lib\\site-packages\\sklearn\\utils\\validation.py:993: DataConversionWarning: A column-vector y was passed when a 1d array was expected. Please change the shape of y to (n_samples, ), for example using ravel().\n",
      "  y = column_or_1d(y, warn=True)\n",
      "<ipython-input-38-ae7508d30235>:14: DataConversionWarning: A column-vector y was passed when a 1d array was expected. Please change the shape of y to (n_samples,), for example using ravel().\n",
      "  model.fit(X_train, y_train)\n"
     ]
    },
    {
     "name": "stdout",
     "output_type": "stream",
     "text": [
      "0.9342857142857143\n"
     ]
    },
    {
     "name": "stderr",
     "output_type": "stream",
     "text": [
      "C:\\ProgramData\\Anaconda3\\envs\\arcgis\\lib\\site-packages\\sklearn\\utils\\validation.py:993: DataConversionWarning: A column-vector y was passed when a 1d array was expected. Please change the shape of y to (n_samples, ), for example using ravel().\n",
      "  y = column_or_1d(y, warn=True)\n",
      "C:\\ProgramData\\Anaconda3\\envs\\arcgis\\lib\\site-packages\\sklearn\\utils\\validation.py:993: DataConversionWarning: A column-vector y was passed when a 1d array was expected. Please change the shape of y to (n_samples, ), for example using ravel().\n",
      "  y = column_or_1d(y, warn=True)\n",
      "<ipython-input-38-ae7508d30235>:14: DataConversionWarning: A column-vector y was passed when a 1d array was expected. Please change the shape of y to (n_samples,), for example using ravel().\n",
      "  model.fit(X_train, y_train)\n"
     ]
    },
    {
     "name": "stdout",
     "output_type": "stream",
     "text": [
      "0.9332773109243698\n"
     ]
    },
    {
     "name": "stderr",
     "output_type": "stream",
     "text": [
      "C:\\ProgramData\\Anaconda3\\envs\\arcgis\\lib\\site-packages\\sklearn\\utils\\validation.py:993: DataConversionWarning: A column-vector y was passed when a 1d array was expected. Please change the shape of y to (n_samples, ), for example using ravel().\n",
      "  y = column_or_1d(y, warn=True)\n",
      "C:\\ProgramData\\Anaconda3\\envs\\arcgis\\lib\\site-packages\\sklearn\\utils\\validation.py:993: DataConversionWarning: A column-vector y was passed when a 1d array was expected. Please change the shape of y to (n_samples, ), for example using ravel().\n",
      "  y = column_or_1d(y, warn=True)\n",
      "<ipython-input-38-ae7508d30235>:14: DataConversionWarning: A column-vector y was passed when a 1d array was expected. Please change the shape of y to (n_samples,), for example using ravel().\n",
      "  model.fit(X_train, y_train)\n"
     ]
    },
    {
     "name": "stdout",
     "output_type": "stream",
     "text": [
      "0.930924369747899\n"
     ]
    },
    {
     "name": "stderr",
     "output_type": "stream",
     "text": [
      "C:\\ProgramData\\Anaconda3\\envs\\arcgis\\lib\\site-packages\\sklearn\\utils\\validation.py:993: DataConversionWarning: A column-vector y was passed when a 1d array was expected. Please change the shape of y to (n_samples, ), for example using ravel().\n",
      "  y = column_or_1d(y, warn=True)\n",
      "C:\\ProgramData\\Anaconda3\\envs\\arcgis\\lib\\site-packages\\sklearn\\utils\\validation.py:993: DataConversionWarning: A column-vector y was passed when a 1d array was expected. Please change the shape of y to (n_samples, ), for example using ravel().\n",
      "  y = column_or_1d(y, warn=True)\n",
      "<ipython-input-38-ae7508d30235>:14: DataConversionWarning: A column-vector y was passed when a 1d array was expected. Please change the shape of y to (n_samples,), for example using ravel().\n",
      "  model.fit(X_train, y_train)\n"
     ]
    },
    {
     "name": "stdout",
     "output_type": "stream",
     "text": [
      "0.9359663865546218\n"
     ]
    },
    {
     "name": "stderr",
     "output_type": "stream",
     "text": [
      "C:\\ProgramData\\Anaconda3\\envs\\arcgis\\lib\\site-packages\\sklearn\\utils\\validation.py:993: DataConversionWarning: A column-vector y was passed when a 1d array was expected. Please change the shape of y to (n_samples, ), for example using ravel().\n",
      "  y = column_or_1d(y, warn=True)\n",
      "C:\\ProgramData\\Anaconda3\\envs\\arcgis\\lib\\site-packages\\sklearn\\utils\\validation.py:993: DataConversionWarning: A column-vector y was passed when a 1d array was expected. Please change the shape of y to (n_samples, ), for example using ravel().\n",
      "  y = column_or_1d(y, warn=True)\n",
      "<ipython-input-38-ae7508d30235>:14: DataConversionWarning: A column-vector y was passed when a 1d array was expected. Please change the shape of y to (n_samples,), for example using ravel().\n",
      "  model.fit(X_train, y_train)\n"
     ]
    },
    {
     "name": "stdout",
     "output_type": "stream",
     "text": [
      "0.9328571428571428\n"
     ]
    },
    {
     "name": "stderr",
     "output_type": "stream",
     "text": [
      "C:\\ProgramData\\Anaconda3\\envs\\arcgis\\lib\\site-packages\\sklearn\\utils\\validation.py:993: DataConversionWarning: A column-vector y was passed when a 1d array was expected. Please change the shape of y to (n_samples, ), for example using ravel().\n",
      "  y = column_or_1d(y, warn=True)\n",
      "C:\\ProgramData\\Anaconda3\\envs\\arcgis\\lib\\site-packages\\sklearn\\utils\\validation.py:993: DataConversionWarning: A column-vector y was passed when a 1d array was expected. Please change the shape of y to (n_samples, ), for example using ravel().\n",
      "  y = column_or_1d(y, warn=True)\n",
      "<ipython-input-38-ae7508d30235>:14: DataConversionWarning: A column-vector y was passed when a 1d array was expected. Please change the shape of y to (n_samples,), for example using ravel().\n",
      "  model.fit(X_train, y_train)\n"
     ]
    },
    {
     "name": "stdout",
     "output_type": "stream",
     "text": [
      "0.9378151260504202\n"
     ]
    },
    {
     "name": "stderr",
     "output_type": "stream",
     "text": [
      "C:\\ProgramData\\Anaconda3\\envs\\arcgis\\lib\\site-packages\\sklearn\\utils\\validation.py:993: DataConversionWarning: A column-vector y was passed when a 1d array was expected. Please change the shape of y to (n_samples, ), for example using ravel().\n",
      "  y = column_or_1d(y, warn=True)\n",
      "C:\\ProgramData\\Anaconda3\\envs\\arcgis\\lib\\site-packages\\sklearn\\utils\\validation.py:993: DataConversionWarning: A column-vector y was passed when a 1d array was expected. Please change the shape of y to (n_samples, ), for example using ravel().\n",
      "  y = column_or_1d(y, warn=True)\n",
      "<ipython-input-38-ae7508d30235>:14: DataConversionWarning: A column-vector y was passed when a 1d array was expected. Please change the shape of y to (n_samples,), for example using ravel().\n",
      "  model.fit(X_train, y_train)\n"
     ]
    },
    {
     "name": "stdout",
     "output_type": "stream",
     "text": [
      "0.9316806722689075\n"
     ]
    },
    {
     "name": "stderr",
     "output_type": "stream",
     "text": [
      "C:\\ProgramData\\Anaconda3\\envs\\arcgis\\lib\\site-packages\\sklearn\\utils\\validation.py:993: DataConversionWarning: A column-vector y was passed when a 1d array was expected. Please change the shape of y to (n_samples, ), for example using ravel().\n",
      "  y = column_or_1d(y, warn=True)\n",
      "C:\\ProgramData\\Anaconda3\\envs\\arcgis\\lib\\site-packages\\sklearn\\utils\\validation.py:993: DataConversionWarning: A column-vector y was passed when a 1d array was expected. Please change the shape of y to (n_samples, ), for example using ravel().\n",
      "  y = column_or_1d(y, warn=True)\n",
      "<ipython-input-38-ae7508d30235>:14: DataConversionWarning: A column-vector y was passed when a 1d array was expected. Please change the shape of y to (n_samples,), for example using ravel().\n",
      "  model.fit(X_train, y_train)\n"
     ]
    },
    {
     "name": "stdout",
     "output_type": "stream",
     "text": [
      "0.931764705882353\n"
     ]
    },
    {
     "name": "stderr",
     "output_type": "stream",
     "text": [
      "C:\\ProgramData\\Anaconda3\\envs\\arcgis\\lib\\site-packages\\sklearn\\utils\\validation.py:993: DataConversionWarning: A column-vector y was passed when a 1d array was expected. Please change the shape of y to (n_samples, ), for example using ravel().\n",
      "  y = column_or_1d(y, warn=True)\n",
      "C:\\ProgramData\\Anaconda3\\envs\\arcgis\\lib\\site-packages\\sklearn\\utils\\validation.py:993: DataConversionWarning: A column-vector y was passed when a 1d array was expected. Please change the shape of y to (n_samples, ), for example using ravel().\n",
      "  y = column_or_1d(y, warn=True)\n",
      "<ipython-input-38-ae7508d30235>:14: DataConversionWarning: A column-vector y was passed when a 1d array was expected. Please change the shape of y to (n_samples,), for example using ravel().\n",
      "  model.fit(X_train, y_train)\n"
     ]
    },
    {
     "name": "stdout",
     "output_type": "stream",
     "text": [
      "0.9363865546218487\n"
     ]
    },
    {
     "name": "stderr",
     "output_type": "stream",
     "text": [
      "C:\\ProgramData\\Anaconda3\\envs\\arcgis\\lib\\site-packages\\sklearn\\utils\\validation.py:993: DataConversionWarning: A column-vector y was passed when a 1d array was expected. Please change the shape of y to (n_samples, ), for example using ravel().\n",
      "  y = column_or_1d(y, warn=True)\n",
      "C:\\ProgramData\\Anaconda3\\envs\\arcgis\\lib\\site-packages\\sklearn\\utils\\validation.py:993: DataConversionWarning: A column-vector y was passed when a 1d array was expected. Please change the shape of y to (n_samples, ), for example using ravel().\n",
      "  y = column_or_1d(y, warn=True)\n",
      "<ipython-input-38-ae7508d30235>:14: DataConversionWarning: A column-vector y was passed when a 1d array was expected. Please change the shape of y to (n_samples,), for example using ravel().\n",
      "  model.fit(X_train, y_train)\n"
     ]
    },
    {
     "name": "stdout",
     "output_type": "stream",
     "text": [
      "0.9171428571428573\n"
     ]
    },
    {
     "name": "stderr",
     "output_type": "stream",
     "text": [
      "C:\\ProgramData\\Anaconda3\\envs\\arcgis\\lib\\site-packages\\sklearn\\utils\\validation.py:993: DataConversionWarning: A column-vector y was passed when a 1d array was expected. Please change the shape of y to (n_samples, ), for example using ravel().\n",
      "  y = column_or_1d(y, warn=True)\n",
      "C:\\ProgramData\\Anaconda3\\envs\\arcgis\\lib\\site-packages\\sklearn\\utils\\validation.py:993: DataConversionWarning: A column-vector y was passed when a 1d array was expected. Please change the shape of y to (n_samples, ), for example using ravel().\n",
      "  y = column_or_1d(y, warn=True)\n",
      "<ipython-input-38-ae7508d30235>:14: DataConversionWarning: A column-vector y was passed when a 1d array was expected. Please change the shape of y to (n_samples,), for example using ravel().\n",
      "  model.fit(X_train, y_train)\n"
     ]
    },
    {
     "name": "stdout",
     "output_type": "stream",
     "text": [
      "0.9382352941176471\n"
     ]
    },
    {
     "name": "stderr",
     "output_type": "stream",
     "text": [
      "C:\\ProgramData\\Anaconda3\\envs\\arcgis\\lib\\site-packages\\sklearn\\utils\\validation.py:993: DataConversionWarning: A column-vector y was passed when a 1d array was expected. Please change the shape of y to (n_samples, ), for example using ravel().\n",
      "  y = column_or_1d(y, warn=True)\n",
      "C:\\ProgramData\\Anaconda3\\envs\\arcgis\\lib\\site-packages\\sklearn\\utils\\validation.py:993: DataConversionWarning: A column-vector y was passed when a 1d array was expected. Please change the shape of y to (n_samples, ), for example using ravel().\n",
      "  y = column_or_1d(y, warn=True)\n",
      "<ipython-input-38-ae7508d30235>:14: DataConversionWarning: A column-vector y was passed when a 1d array was expected. Please change the shape of y to (n_samples,), for example using ravel().\n",
      "  model.fit(X_train, y_train)\n"
     ]
    },
    {
     "name": "stdout",
     "output_type": "stream",
     "text": [
      "0.93\n"
     ]
    },
    {
     "name": "stderr",
     "output_type": "stream",
     "text": [
      "C:\\ProgramData\\Anaconda3\\envs\\arcgis\\lib\\site-packages\\sklearn\\utils\\validation.py:993: DataConversionWarning: A column-vector y was passed when a 1d array was expected. Please change the shape of y to (n_samples, ), for example using ravel().\n",
      "  y = column_or_1d(y, warn=True)\n",
      "C:\\ProgramData\\Anaconda3\\envs\\arcgis\\lib\\site-packages\\sklearn\\utils\\validation.py:993: DataConversionWarning: A column-vector y was passed when a 1d array was expected. Please change the shape of y to (n_samples, ), for example using ravel().\n",
      "  y = column_or_1d(y, warn=True)\n",
      "<ipython-input-38-ae7508d30235>:14: DataConversionWarning: A column-vector y was passed when a 1d array was expected. Please change the shape of y to (n_samples,), for example using ravel().\n",
      "  model.fit(X_train, y_train)\n"
     ]
    },
    {
     "name": "stdout",
     "output_type": "stream",
     "text": [
      "0.9297478991596639\n"
     ]
    },
    {
     "name": "stderr",
     "output_type": "stream",
     "text": [
      "C:\\ProgramData\\Anaconda3\\envs\\arcgis\\lib\\site-packages\\sklearn\\utils\\validation.py:993: DataConversionWarning: A column-vector y was passed when a 1d array was expected. Please change the shape of y to (n_samples, ), for example using ravel().\n",
      "  y = column_or_1d(y, warn=True)\n",
      "C:\\ProgramData\\Anaconda3\\envs\\arcgis\\lib\\site-packages\\sklearn\\utils\\validation.py:993: DataConversionWarning: A column-vector y was passed when a 1d array was expected. Please change the shape of y to (n_samples, ), for example using ravel().\n",
      "  y = column_or_1d(y, warn=True)\n",
      "<ipython-input-38-ae7508d30235>:14: DataConversionWarning: A column-vector y was passed when a 1d array was expected. Please change the shape of y to (n_samples,), for example using ravel().\n",
      "  model.fit(X_train, y_train)\n"
     ]
    },
    {
     "name": "stdout",
     "output_type": "stream",
     "text": [
      "0.9389915966386554\n"
     ]
    },
    {
     "name": "stderr",
     "output_type": "stream",
     "text": [
      "C:\\ProgramData\\Anaconda3\\envs\\arcgis\\lib\\site-packages\\sklearn\\utils\\validation.py:993: DataConversionWarning: A column-vector y was passed when a 1d array was expected. Please change the shape of y to (n_samples, ), for example using ravel().\n",
      "  y = column_or_1d(y, warn=True)\n",
      "C:\\ProgramData\\Anaconda3\\envs\\arcgis\\lib\\site-packages\\sklearn\\utils\\validation.py:993: DataConversionWarning: A column-vector y was passed when a 1d array was expected. Please change the shape of y to (n_samples, ), for example using ravel().\n",
      "  y = column_or_1d(y, warn=True)\n",
      "<ipython-input-38-ae7508d30235>:14: DataConversionWarning: A column-vector y was passed when a 1d array was expected. Please change the shape of y to (n_samples,), for example using ravel().\n",
      "  model.fit(X_train, y_train)\n"
     ]
    },
    {
     "name": "stdout",
     "output_type": "stream",
     "text": [
      "0.9292436974789916\n"
     ]
    },
    {
     "name": "stderr",
     "output_type": "stream",
     "text": [
      "C:\\ProgramData\\Anaconda3\\envs\\arcgis\\lib\\site-packages\\sklearn\\utils\\validation.py:993: DataConversionWarning: A column-vector y was passed when a 1d array was expected. Please change the shape of y to (n_samples, ), for example using ravel().\n",
      "  y = column_or_1d(y, warn=True)\n",
      "C:\\ProgramData\\Anaconda3\\envs\\arcgis\\lib\\site-packages\\sklearn\\utils\\validation.py:993: DataConversionWarning: A column-vector y was passed when a 1d array was expected. Please change the shape of y to (n_samples, ), for example using ravel().\n",
      "  y = column_or_1d(y, warn=True)\n",
      "<ipython-input-38-ae7508d30235>:14: DataConversionWarning: A column-vector y was passed when a 1d array was expected. Please change the shape of y to (n_samples,), for example using ravel().\n",
      "  model.fit(X_train, y_train)\n"
     ]
    },
    {
     "name": "stdout",
     "output_type": "stream",
     "text": [
      "0.9365546218487395\n"
     ]
    },
    {
     "name": "stderr",
     "output_type": "stream",
     "text": [
      "C:\\ProgramData\\Anaconda3\\envs\\arcgis\\lib\\site-packages\\sklearn\\utils\\validation.py:993: DataConversionWarning: A column-vector y was passed when a 1d array was expected. Please change the shape of y to (n_samples, ), for example using ravel().\n",
      "  y = column_or_1d(y, warn=True)\n",
      "C:\\ProgramData\\Anaconda3\\envs\\arcgis\\lib\\site-packages\\sklearn\\utils\\validation.py:993: DataConversionWarning: A column-vector y was passed when a 1d array was expected. Please change the shape of y to (n_samples, ), for example using ravel().\n",
      "  y = column_or_1d(y, warn=True)\n",
      "<ipython-input-38-ae7508d30235>:14: DataConversionWarning: A column-vector y was passed when a 1d array was expected. Please change the shape of y to (n_samples,), for example using ravel().\n",
      "  model.fit(X_train, y_train)\n"
     ]
    },
    {
     "name": "stdout",
     "output_type": "stream",
     "text": [
      "0.9310084033613445\n"
     ]
    },
    {
     "name": "stderr",
     "output_type": "stream",
     "text": [
      "C:\\ProgramData\\Anaconda3\\envs\\arcgis\\lib\\site-packages\\sklearn\\utils\\validation.py:993: DataConversionWarning: A column-vector y was passed when a 1d array was expected. Please change the shape of y to (n_samples, ), for example using ravel().\n",
      "  y = column_or_1d(y, warn=True)\n",
      "C:\\ProgramData\\Anaconda3\\envs\\arcgis\\lib\\site-packages\\sklearn\\utils\\validation.py:993: DataConversionWarning: A column-vector y was passed when a 1d array was expected. Please change the shape of y to (n_samples, ), for example using ravel().\n",
      "  y = column_or_1d(y, warn=True)\n",
      "<ipython-input-38-ae7508d30235>:14: DataConversionWarning: A column-vector y was passed when a 1d array was expected. Please change the shape of y to (n_samples,), for example using ravel().\n",
      "  model.fit(X_train, y_train)\n"
     ]
    },
    {
     "name": "stdout",
     "output_type": "stream",
     "text": [
      "0.9370588235294118\n"
     ]
    },
    {
     "name": "stderr",
     "output_type": "stream",
     "text": [
      "C:\\ProgramData\\Anaconda3\\envs\\arcgis\\lib\\site-packages\\sklearn\\utils\\validation.py:993: DataConversionWarning: A column-vector y was passed when a 1d array was expected. Please change the shape of y to (n_samples, ), for example using ravel().\n",
      "  y = column_or_1d(y, warn=True)\n",
      "C:\\ProgramData\\Anaconda3\\envs\\arcgis\\lib\\site-packages\\sklearn\\utils\\validation.py:993: DataConversionWarning: A column-vector y was passed when a 1d array was expected. Please change the shape of y to (n_samples, ), for example using ravel().\n",
      "  y = column_or_1d(y, warn=True)\n",
      "<ipython-input-38-ae7508d30235>:14: DataConversionWarning: A column-vector y was passed when a 1d array was expected. Please change the shape of y to (n_samples,), for example using ravel().\n",
      "  model.fit(X_train, y_train)\n"
     ]
    },
    {
     "name": "stdout",
     "output_type": "stream",
     "text": [
      "0.9378991596638656\n"
     ]
    },
    {
     "name": "stderr",
     "output_type": "stream",
     "text": [
      "C:\\ProgramData\\Anaconda3\\envs\\arcgis\\lib\\site-packages\\sklearn\\utils\\validation.py:993: DataConversionWarning: A column-vector y was passed when a 1d array was expected. Please change the shape of y to (n_samples, ), for example using ravel().\n",
      "  y = column_or_1d(y, warn=True)\n",
      "C:\\ProgramData\\Anaconda3\\envs\\arcgis\\lib\\site-packages\\sklearn\\utils\\validation.py:993: DataConversionWarning: A column-vector y was passed when a 1d array was expected. Please change the shape of y to (n_samples, ), for example using ravel().\n",
      "  y = column_or_1d(y, warn=True)\n",
      "<ipython-input-38-ae7508d30235>:14: DataConversionWarning: A column-vector y was passed when a 1d array was expected. Please change the shape of y to (n_samples,), for example using ravel().\n",
      "  model.fit(X_train, y_train)\n"
     ]
    },
    {
     "name": "stdout",
     "output_type": "stream",
     "text": [
      "0.925798319327731\n"
     ]
    },
    {
     "name": "stderr",
     "output_type": "stream",
     "text": [
      "C:\\ProgramData\\Anaconda3\\envs\\arcgis\\lib\\site-packages\\sklearn\\utils\\validation.py:993: DataConversionWarning: A column-vector y was passed when a 1d array was expected. Please change the shape of y to (n_samples, ), for example using ravel().\n",
      "  y = column_or_1d(y, warn=True)\n",
      "C:\\ProgramData\\Anaconda3\\envs\\arcgis\\lib\\site-packages\\sklearn\\utils\\validation.py:993: DataConversionWarning: A column-vector y was passed when a 1d array was expected. Please change the shape of y to (n_samples, ), for example using ravel().\n",
      "  y = column_or_1d(y, warn=True)\n",
      "<ipython-input-38-ae7508d30235>:14: DataConversionWarning: A column-vector y was passed when a 1d array was expected. Please change the shape of y to (n_samples,), for example using ravel().\n",
      "  model.fit(X_train, y_train)\n"
     ]
    },
    {
     "name": "stdout",
     "output_type": "stream",
     "text": [
      "0.9311764705882353\n"
     ]
    },
    {
     "name": "stderr",
     "output_type": "stream",
     "text": [
      "C:\\ProgramData\\Anaconda3\\envs\\arcgis\\lib\\site-packages\\sklearn\\utils\\validation.py:993: DataConversionWarning: A column-vector y was passed when a 1d array was expected. Please change the shape of y to (n_samples, ), for example using ravel().\n",
      "  y = column_or_1d(y, warn=True)\n",
      "C:\\ProgramData\\Anaconda3\\envs\\arcgis\\lib\\site-packages\\sklearn\\utils\\validation.py:993: DataConversionWarning: A column-vector y was passed when a 1d array was expected. Please change the shape of y to (n_samples, ), for example using ravel().\n",
      "  y = column_or_1d(y, warn=True)\n",
      "<ipython-input-38-ae7508d30235>:14: DataConversionWarning: A column-vector y was passed when a 1d array was expected. Please change the shape of y to (n_samples,), for example using ravel().\n",
      "  model.fit(X_train, y_train)\n"
     ]
    },
    {
     "name": "stdout",
     "output_type": "stream",
     "text": [
      "0.9335294117647059\n"
     ]
    },
    {
     "name": "stderr",
     "output_type": "stream",
     "text": [
      "C:\\ProgramData\\Anaconda3\\envs\\arcgis\\lib\\site-packages\\sklearn\\utils\\validation.py:993: DataConversionWarning: A column-vector y was passed when a 1d array was expected. Please change the shape of y to (n_samples, ), for example using ravel().\n",
      "  y = column_or_1d(y, warn=True)\n",
      "C:\\ProgramData\\Anaconda3\\envs\\arcgis\\lib\\site-packages\\sklearn\\utils\\validation.py:993: DataConversionWarning: A column-vector y was passed when a 1d array was expected. Please change the shape of y to (n_samples, ), for example using ravel().\n",
      "  y = column_or_1d(y, warn=True)\n",
      "<ipython-input-38-ae7508d30235>:14: DataConversionWarning: A column-vector y was passed when a 1d array was expected. Please change the shape of y to (n_samples,), for example using ravel().\n",
      "  model.fit(X_train, y_train)\n"
     ]
    },
    {
     "name": "stdout",
     "output_type": "stream",
     "text": [
      "0.9227731092436975\n"
     ]
    },
    {
     "name": "stderr",
     "output_type": "stream",
     "text": [
      "C:\\ProgramData\\Anaconda3\\envs\\arcgis\\lib\\site-packages\\sklearn\\utils\\validation.py:993: DataConversionWarning: A column-vector y was passed when a 1d array was expected. Please change the shape of y to (n_samples, ), for example using ravel().\n",
      "  y = column_or_1d(y, warn=True)\n",
      "C:\\ProgramData\\Anaconda3\\envs\\arcgis\\lib\\site-packages\\sklearn\\utils\\validation.py:993: DataConversionWarning: A column-vector y was passed when a 1d array was expected. Please change the shape of y to (n_samples, ), for example using ravel().\n",
      "  y = column_or_1d(y, warn=True)\n",
      "<ipython-input-38-ae7508d30235>:14: DataConversionWarning: A column-vector y was passed when a 1d array was expected. Please change the shape of y to (n_samples,), for example using ravel().\n",
      "  model.fit(X_train, y_train)\n"
     ]
    },
    {
     "name": "stdout",
     "output_type": "stream",
     "text": [
      "0.9357983193277312\n"
     ]
    },
    {
     "name": "stderr",
     "output_type": "stream",
     "text": [
      "C:\\ProgramData\\Anaconda3\\envs\\arcgis\\lib\\site-packages\\sklearn\\utils\\validation.py:993: DataConversionWarning: A column-vector y was passed when a 1d array was expected. Please change the shape of y to (n_samples, ), for example using ravel().\n",
      "  y = column_or_1d(y, warn=True)\n",
      "C:\\ProgramData\\Anaconda3\\envs\\arcgis\\lib\\site-packages\\sklearn\\utils\\validation.py:993: DataConversionWarning: A column-vector y was passed when a 1d array was expected. Please change the shape of y to (n_samples, ), for example using ravel().\n",
      "  y = column_or_1d(y, warn=True)\n",
      "<ipython-input-38-ae7508d30235>:14: DataConversionWarning: A column-vector y was passed when a 1d array was expected. Please change the shape of y to (n_samples,), for example using ravel().\n",
      "  model.fit(X_train, y_train)\n"
     ]
    },
    {
     "name": "stdout",
     "output_type": "stream",
     "text": [
      "0.9314285714285714\n"
     ]
    },
    {
     "name": "stderr",
     "output_type": "stream",
     "text": [
      "C:\\ProgramData\\Anaconda3\\envs\\arcgis\\lib\\site-packages\\sklearn\\utils\\validation.py:993: DataConversionWarning: A column-vector y was passed when a 1d array was expected. Please change the shape of y to (n_samples, ), for example using ravel().\n",
      "  y = column_or_1d(y, warn=True)\n"
     ]
    },
    {
     "name": "stdout",
     "output_type": "stream",
     "text": [
      "0.9370588235294117\n"
     ]
    },
    {
     "name": "stderr",
     "output_type": "stream",
     "text": [
      "C:\\ProgramData\\Anaconda3\\envs\\arcgis\\lib\\site-packages\\sklearn\\utils\\validation.py:993: DataConversionWarning: A column-vector y was passed when a 1d array was expected. Please change the shape of y to (n_samples, ), for example using ravel().\n",
      "  y = column_or_1d(y, warn=True)\n"
     ]
    }
   ],
   "source": [
    "bl_acc = []\n",
    "bl_roc = []\n",
    "bl_result = []\n",
    "for i in range(30):\n",
    "    models = get_models()\n",
    "    model = fit_ensemble(models, X_train, X_test, y_train, y_test)\n",
    "    blender_prediction = predict_ensemble(models, model, X_test)\n",
    "    y_pred = blender_prediction>0.5\n",
    "    y_pred = [int(x) for x in y_pred]\n",
    "    bl_result.append(blender_prediction)\n",
    "\n",
    "    acc = accuracy_score(y_test,y_pred)\n",
    "    bl_acc.append(acc)\n",
    "    roc = roc_auc_score(y_test, blender_prediction)\n",
    "    bl_roc.append(roc)\n",
    "    print(roc)"
   ]
  },
  {
   "cell_type": "code",
   "execution_count": 55,
   "id": "91d97200",
   "metadata": {},
   "outputs": [
    {
     "name": "stdout",
     "output_type": "stream",
     "text": [
      "max roc 0.9396638655462185 max acc 0.9041666666666667\n"
     ]
    }
   ],
   "source": [
    "print('max roc',max(bl_roc),\n",
    "        'max acc',max(bl_acc))\n",
    "bl_max_result = bl_result[bl_roc.index(max(bl_roc))]"
   ]
  },
  {
   "cell_type": "code",
   "execution_count": 56,
   "id": "a17bf6de",
   "metadata": {},
   "outputs": [
    {
     "data": {
      "text/plain": [
       "0.8958333333333334"
      ]
     },
     "execution_count": 56,
     "metadata": {},
     "output_type": "execute_result"
    }
   ],
   "source": [
    "bl_acc[bl_roc.index(max(bl_roc))]"
   ]
  },
  {
   "cell_type": "code",
   "execution_count": 100,
   "id": "682dd27a",
   "metadata": {},
   "outputs": [
    {
     "data": {
      "image/png": "[encoded data removed]",
      "text/plain": [
       "<Figure size 1000x1000 with 1 Axes>"
      ]
     },
     "metadata": {},
     "output_type": "display_data"
    }
   ],
   "source": [
    "plt.rcParams[\"font.family\"] = \"Times New Roman\"\n",
    "\n",
    "plt.figure(figsize=(10,10)) .clf()\n",
    "#colors = ['#1f77b4', '#ff7f0e', '#2ca02c', '#d62728', '#9467bd',\n",
    "#          '#8c564b', '#e377c2', '#7f7f7f', '#bcbd22', '#17becf']\n",
    "#fit logistic regression model and plot ROC curve\n",
    "colors = ['#6a3d9a', '#cab2d6', '#ff7f00', '#fdbf6f', '#e31a1c',\n",
    "          '#fb9a99', '#9ea900', '#b2df8a', '#1f78b4', '#ff9900']\n",
    "\n",
    "fpr, tpr, _ = metrics.roc_curve(y_test, st_max_result)\n",
    "auc = round(metrics.roc_auc_score(y_test, st_max_result), 3)\n",
    "plt.plot(fpr,tpr,color=colors[0],label=\"Stacking Ensemble, AUC=\"+str(auc))\n",
    "\n",
    "fpr, tpr, _ = metrics.roc_curve(y_test, bl_max_result)\n",
    "auc = round(metrics.roc_auc_score(y_test, bl_max_result), 3)\n",
    "plt.plot(fpr,tpr,color=colors[1],label=\"Blending Ensemble, AUC=\"+str(auc))\n",
    "\n",
    "fpr, tpr, _ = metrics.roc_curve(y_test, rf_max_result)\n",
    "auc = round(metrics.roc_auc_score(y_test, rf_max_result), 3)\n",
    "plt.plot(fpr,tpr,color=colors[2],label=\"Random Forest, AUC=\"+str(auc))\n",
    "\n",
    "fpr, tpr, _ = metrics.roc_curve(y_test, ab_max_result)\n",
    "auc = round(metrics.roc_auc_score(y_test, ab_max_result), 3)\n",
    "plt.plot(fpr,tpr,color=colors[3],label=\"AdaBoost, AUC=\"+str(auc))\n",
    "\n",
    "fpr, tpr, _ = metrics.roc_curve(y_test, XGB_pred)\n",
    "auc = round(metrics.roc_auc_score(y_test, XGB_pred), 3)\n",
    "plt.plot(fpr,tpr,color=colors[4],label=\"XGBoost, AUC=\"+str(auc))\n",
    "\n",
    "fpr, tpr, _ = metrics.roc_curve(y_test, NuSVC_pred)\n",
    "auc = round(metrics.roc_auc_score(y_test, NuSVC_pred), 3)\n",
    "plt.plot(fpr,tpr,color=colors[5],label=\"NuSVC, AUC=\"+str(auc))\n",
    "\n",
    "fpr, tpr, _ = metrics.roc_curve(y_test, NB_pred)\n",
    "auc = round(metrics.roc_auc_score(y_test, NB_pred), 3)\n",
    "plt.plot(fpr,tpr,color=colors[6],label=\"Naive Bayes, AUC=\"+str(auc))\n",
    "\n",
    "fpr, tpr, _ = metrics.roc_curve(y_test, LOG_pred)\n",
    "auc = round(metrics.roc_auc_score(y_test, LOG_pred), 3)\n",
    "plt.plot(fpr,tpr,color=colors[7],label=\"Logistic Regression, AUC=\"+str(auc))\n",
    "\n",
    "fpr, tpr, _ = metrics.roc_curve(y_test, knn_pred)\n",
    "auc = round(metrics.roc_auc_score(y_test, knn_pred), 3)\n",
    "plt.plot(fpr,tpr,color=colors[8],label=\"KNN, AUC=\"+str(auc))\n",
    "\n",
    "fpr, tpr, _ = metrics.roc_curve(y_test, SVC_pred)\n",
    "auc = round(metrics.roc_auc_score(y_test, SVC_pred), 3)\n",
    "plt.plot(fpr,tpr,color=colors[9],label=\"SVM, AUC=\"+str(auc))\n",
    "plt.plot([0,1], [0,1], '--',color = 'k',alpha = 0.5, linewidth=1,label = 'reference line')\n",
    "\n",
    "#add legend\n",
    "plt.legend(fontsize=15)\n",
    "plt.xlabel(\"False Positive Rate\",size=15)\n",
    "plt.ylabel(\"True Postive Rate\",size=15)\n",
    "plt.title('Receiver Operating Characteristic (ROC) Curve',size=15)\n",
    "plt.show()"
   ]
  },
  {
   "cell_type": "code",
   "execution_count": 50,
   "id": "a4333bdf",
   "metadata": {},
   "outputs": [],
   "source": [
    "rocdata = pd.read_csv(\"SaveModel/roc.csv\")\n",
    "accdata = pd.read_csv(\"SaveModel/acc.csv\")\n"
   ]
  },
  {
   "cell_type": "code",
   "execution_count": 65,
   "id": "d18ce85c",
   "metadata": {},
   "outputs": [],
   "source": [
    "pd.DataFrame(bl_result).to_csv(\"SaveModel/blresult.csv\")"
   ]
  },
  {
   "cell_type": "code",
   "execution_count": 47,
   "id": "5935f150",
   "metadata": {},
   "outputs": [],
   "source": [
    "rocdata = pd.DataFrame()\n",
    "rocdata['Stacking'] = st_roc\n",
    "rocdata['Blending'] = bl_roc\n",
    "rocdata['RF'] = rf_roc\n",
    "rocdata['AdaBoost'] = ab_roc\n",
    "\n",
    "rocdata.to_csv(\"SaveModel/roc.csv\")\n",
    "accdata = pd.DataFrame()\n",
    "accdata['Stacking'] = st_acc\n",
    "accdata['Blending'] = bl_acc\n",
    "accdata['RF'] = rf_acc\n",
    "accdata['AdaBoost'] = ab_acc\n",
    "accdata.to_csv(\"SaveModel/acc.csv\")\n"
   ]
  },
  {
   "cell_type": "code",
   "execution_count": 108,
   "id": "f05be4d2",
   "metadata": {},
   "outputs": [
    {
     "name": "stderr",
     "output_type": "stream",
     "text": [
      "<ipython-input-108-2f5dab80098e>:11: UserWarning: FixedFormatter should only be used together with FixedLocator\n",
      "  ax.set_xticklabels(['Stacking', 'Blending','Random Forest', 'AdaBoost'],size =20)\n"
     ]
    },
    {
     "data": {
      "image/png": "[encoded data removed]",
      "text/plain": [
       "<Figure size 1000x700 with 1 Axes>"
      ]
     },
     "metadata": {},
     "output_type": "display_data"
    }
   ],
   "source": [
    "data_1 = rocdata['Stacking'].to_numpy()\n",
    "data_2 = rocdata.Blending.to_numpy()\n",
    "data_3 = rocdata.RF.to_numpy()\n",
    "data_4 = rocdata.AdaBoost.to_numpy()\n",
    "data = [data_1, data_2, data_3, data_4]\n",
    " \n",
    "fig = plt.figure(figsize =(10, 7))\n",
    " \n",
    "# Creating axes instance\n",
    "ax = fig.add_axes([0, 0, 1, 1])\n",
    "ax.set_xticklabels(['Stacking', 'Blending','Random Forest', 'AdaBoost'],size =20)\n",
    "ax.set_ylabel(\"AUC score\",size = 20)\n",
    "plt.title(\"AUC score of Ensemble Models and Base Models\",size =20)\n",
    "\n",
    "# Creating plot\n",
    "ax.boxplot(data,showmeans=True,meanprops=dict(marker='^', markerfacecolor='green', markersize=7))\n",
    "# show plot\n",
    "plt.show()\n"
   ]
  },
  {
   "cell_type": "code",
   "execution_count": 109,
   "id": "9b5d3aee",
   "metadata": {},
   "outputs": [
    {
     "name": "stderr",
     "output_type": "stream",
     "text": [
      "<ipython-input-109-c8f51f503481>:11: UserWarning: FixedFormatter should only be used together with FixedLocator\n",
      "  ax.set_xticklabels(['Stacking', 'Blending','Random Forest', 'AdaBoost'],size =20)\n"
     ]
    },
    {
     "data": {
      "image/png": "[encoded data removed]",
      "text/plain": [
       "<Figure size 1000x700 with 1 Axes>"
      ]
     },
     "metadata": {},
     "output_type": "display_data"
    }
   ],
   "source": [
    "data_1 = accdata['Stacking'].to_numpy()\n",
    "data_2 = accdata.Blending.to_numpy()\n",
    "data_3 = accdata.RF.to_numpy()\n",
    "data_4 = accdata.AdaBoost.to_numpy()\n",
    "data = [data_1, data_2, data_3, data_4]\n",
    " \n",
    "fig = plt.figure(figsize =(10, 7))\n",
    " \n",
    "# Creating axes instance\n",
    "ax = fig.add_axes([0, 0, 1, 1])\n",
    "ax.set_xticklabels(['Stacking', 'Blending','Random Forest', 'AdaBoost'],size =20)\n",
    "ax.set_ylabel(\"Accuracy\",size = 20)\n",
    "plt.title(\"Accuracy of Ensemble Models and Base Models\",size=26)\n",
    "\n",
    "# Creating plot\n",
    "ax.boxplot(data,showmeans=True,meanprops=dict(marker='^', markerfacecolor='green', markersize=7))\n",
    "# show plot\n",
    "plt.show()\n"
   ]
  },
  {
   "cell_type": "code",
   "execution_count": 87,
   "id": "a8cdb616",
   "metadata": {},
   "outputs": [
    {
     "data": {
      "text/html": [
       "<div>\n",
       "<style scoped>\n",
       "    .dataframe tbody tr th:only-of-type {\n",
       "        vertical-align: middle;\n",
       "    }\n",
       "\n",
       "    .dataframe tbody tr th {\n",
       "        vertical-align: top;\n",
       "    }\n",
       "\n",
       "    .dataframe thead th {\n",
       "        text-align: right;\n",
       "    }\n",
       "</style>\n",
       "<table border=\"1\" class=\"dataframe\">\n",
       "  <thead>\n",
       "    <tr style=\"text-align: right;\">\n",
       "      <th></th>\n",
       "      <th>FID_1</th>\n",
       "      <th>Aspect</th>\n",
       "      <th>Curvature</th>\n",
       "      <th>dem</th>\n",
       "      <th>dis2riv</th>\n",
       "      <th>dis2road</th>\n",
       "      <th>FVC</th>\n",
       "      <th>landcover</th>\n",
       "      <th>precipit</th>\n",
       "      <th>Slope</th>\n",
       "      <th>TRI</th>\n",
       "      <th>TWI</th>\n",
       "      <th>RoadClass2</th>\n",
       "      <th>RoadClass1</th>\n",
       "      <th>Traffic</th>\n",
       "      <th>Population</th>\n",
       "      <th>geometry</th>\n",
       "    </tr>\n",
       "  </thead>\n",
       "  <tbody>\n",
       "    <tr>\n",
       "      <th>0</th>\n",
       "      <td>2294</td>\n",
       "      <td>284.744</td>\n",
       "      <td>-0.111111</td>\n",
       "      <td>80</td>\n",
       "      <td>7647.23</td>\n",
       "      <td>180.0000</td>\n",
       "      <td>0.635836</td>\n",
       "      <td>20</td>\n",
       "      <td>378.295428</td>\n",
       "      <td>6.09459</td>\n",
       "      <td>6.00000</td>\n",
       "      <td>7.24768</td>\n",
       "      <td>-9999</td>\n",
       "      <td>0</td>\n",
       "      <td>-9999</td>\n",
       "      <td>-9999.0000</td>\n",
       "      <td>POINT (116.08000 39.80167)</td>\n",
       "    </tr>\n",
       "    <tr>\n",
       "      <th>1</th>\n",
       "      <td>2295</td>\n",
       "      <td>285.945</td>\n",
       "      <td>0.222222</td>\n",
       "      <td>82</td>\n",
       "      <td>7676.31</td>\n",
       "      <td>180.0000</td>\n",
       "      <td>0.635836</td>\n",
       "      <td>20</td>\n",
       "      <td>378.295428</td>\n",
       "      <td>4.52436</td>\n",
       "      <td>4.89898</td>\n",
       "      <td>5.93787</td>\n",
       "      <td>-9999</td>\n",
       "      <td>0</td>\n",
       "      <td>-9999</td>\n",
       "      <td>-9999.0000</td>\n",
       "      <td>POINT (116.08028 39.80167)</td>\n",
       "    </tr>\n",
       "    <tr>\n",
       "      <th>2</th>\n",
       "      <td>2296</td>\n",
       "      <td>282.995</td>\n",
       "      <td>-0.222222</td>\n",
       "      <td>84</td>\n",
       "      <td>7705.39</td>\n",
       "      <td>180.0000</td>\n",
       "      <td>0.658358</td>\n",
       "      <td>20</td>\n",
       "      <td>378.547558</td>\n",
       "      <td>4.14709</td>\n",
       "      <td>4.35890</td>\n",
       "      <td>7.81703</td>\n",
       "      <td>-9999</td>\n",
       "      <td>0</td>\n",
       "      <td>-9999</td>\n",
       "      <td>-9999.0000</td>\n",
       "      <td>POINT (116.08056 39.80167)</td>\n",
       "    </tr>\n",
       "    <tr>\n",
       "      <th>3</th>\n",
       "      <td>2297</td>\n",
       "      <td>282.995</td>\n",
       "      <td>-0.222222</td>\n",
       "      <td>85</td>\n",
       "      <td>7705.39</td>\n",
       "      <td>180.0000</td>\n",
       "      <td>0.650292</td>\n",
       "      <td>20</td>\n",
       "      <td>378.547558</td>\n",
       "      <td>4.14709</td>\n",
       "      <td>4.35890</td>\n",
       "      <td>7.81703</td>\n",
       "      <td>-9999</td>\n",
       "      <td>0</td>\n",
       "      <td>-9999</td>\n",
       "      <td>-9999.0000</td>\n",
       "      <td>POINT (116.08083 39.80167)</td>\n",
       "    </tr>\n",
       "    <tr>\n",
       "      <th>4</th>\n",
       "      <td>2298</td>\n",
       "      <td>273.814</td>\n",
       "      <td>-0.000000</td>\n",
       "      <td>87</td>\n",
       "      <td>7763.57</td>\n",
       "      <td>174.9290</td>\n",
       "      <td>0.636515</td>\n",
       "      <td>20</td>\n",
       "      <td>378.547558</td>\n",
       "      <td>4.67072</td>\n",
       "      <td>4.58258</td>\n",
       "      <td>7.00450</td>\n",
       "      <td>-9999</td>\n",
       "      <td>0</td>\n",
       "      <td>-9999</td>\n",
       "      <td>-9999.0000</td>\n",
       "      <td>POINT (116.08111 39.80167)</td>\n",
       "    </tr>\n",
       "    <tr>\n",
       "      <th>...</th>\n",
       "      <td>...</td>\n",
       "      <td>...</td>\n",
       "      <td>...</td>\n",
       "      <td>...</td>\n",
       "      <td>...</td>\n",
       "      <td>...</td>\n",
       "      <td>...</td>\n",
       "      <td>...</td>\n",
       "      <td>...</td>\n",
       "      <td>...</td>\n",
       "      <td>...</td>\n",
       "      <td>...</td>\n",
       "      <td>...</td>\n",
       "      <td>...</td>\n",
       "      <td>...</td>\n",
       "      <td>...</td>\n",
       "      <td>...</td>\n",
       "    </tr>\n",
       "    <tr>\n",
       "      <th>1880195</th>\n",
       "      <td>1879595</td>\n",
       "      <td>0.000</td>\n",
       "      <td>-0.000000</td>\n",
       "      <td>41</td>\n",
       "      <td>10803.50</td>\n",
       "      <td>134.1640</td>\n",
       "      <td>0.660371</td>\n",
       "      <td>80</td>\n",
       "      <td>372.430568</td>\n",
       "      <td>2.50099</td>\n",
       "      <td>2.44949</td>\n",
       "      <td>7.91840</td>\n",
       "      <td>-9999</td>\n",
       "      <td>0</td>\n",
       "      <td>-9999</td>\n",
       "      <td>24.1262</td>\n",
       "      <td>POINT (116.23861 40.12500)</td>\n",
       "    </tr>\n",
       "    <tr>\n",
       "      <th>1880196</th>\n",
       "      <td>1879596</td>\n",
       "      <td>333.435</td>\n",
       "      <td>-0.111111</td>\n",
       "      <td>41</td>\n",
       "      <td>10789.50</td>\n",
       "      <td>108.1670</td>\n",
       "      <td>0.671148</td>\n",
       "      <td>80</td>\n",
       "      <td>372.430568</td>\n",
       "      <td>2.79575</td>\n",
       "      <td>3.00000</td>\n",
       "      <td>9.05959</td>\n",
       "      <td>-9999</td>\n",
       "      <td>0</td>\n",
       "      <td>-9999</td>\n",
       "      <td>21.7829</td>\n",
       "      <td>POINT (116.23889 40.12500)</td>\n",
       "    </tr>\n",
       "    <tr>\n",
       "      <th>1880197</th>\n",
       "      <td>1879597</td>\n",
       "      <td>292.380</td>\n",
       "      <td>-0.333333</td>\n",
       "      <td>42</td>\n",
       "      <td>10789.50</td>\n",
       "      <td>108.1670</td>\n",
       "      <td>0.683953</td>\n",
       "      <td>80</td>\n",
       "      <td>372.430568</td>\n",
       "      <td>5.73198</td>\n",
       "      <td>6.00000</td>\n",
       "      <td>7.08631</td>\n",
       "      <td>-9999</td>\n",
       "      <td>0</td>\n",
       "      <td>-9999</td>\n",
       "      <td>21.7829</td>\n",
       "      <td>POINT (116.23917 40.12500)</td>\n",
       "    </tr>\n",
       "    <tr>\n",
       "      <th>1880198</th>\n",
       "      <td>1879598</td>\n",
       "      <td>280.305</td>\n",
       "      <td>0.555556</td>\n",
       "      <td>46</td>\n",
       "      <td>10775.50</td>\n",
       "      <td>84.8528</td>\n",
       "      <td>0.683953</td>\n",
       "      <td>80</td>\n",
       "      <td>372.430568</td>\n",
       "      <td>6.96049</td>\n",
       "      <td>7.81025</td>\n",
       "      <td>5.50424</td>\n",
       "      <td>1</td>\n",
       "      <td>1</td>\n",
       "      <td>-9999</td>\n",
       "      <td>21.7829</td>\n",
       "      <td>POINT (116.23944 40.12500)</td>\n",
       "    </tr>\n",
       "    <tr>\n",
       "      <th>1880199</th>\n",
       "      <td>1879599</td>\n",
       "      <td>276.340</td>\n",
       "      <td>0.444444</td>\n",
       "      <td>48</td>\n",
       "      <td>10761.60</td>\n",
       "      <td>60.0000</td>\n",
       "      <td>0.660779</td>\n",
       "      <td>80</td>\n",
       "      <td>372.430568</td>\n",
       "      <td>2.83043</td>\n",
       "      <td>5.74456</td>\n",
       "      <td>6.40818</td>\n",
       "      <td>1</td>\n",
       "      <td>1</td>\n",
       "      <td>-9999</td>\n",
       "      <td>24.7400</td>\n",
       "      <td>POINT (116.23972 40.12500)</td>\n",
       "    </tr>\n",
       "  </tbody>\n",
       "</table>\n",
       "<p>1880200 rows × 17 columns</p>\n",
       "</div>"
      ],
      "text/plain": [
       "           FID_1   Aspect  Curvature  dem   dis2riv  dis2road       FVC  \\\n",
       "0           2294  284.744  -0.111111   80   7647.23  180.0000  0.635836   \n",
       "1           2295  285.945   0.222222   82   7676.31  180.0000  0.635836   \n",
       "2           2296  282.995  -0.222222   84   7705.39  180.0000  0.658358   \n",
       "3           2297  282.995  -0.222222   85   7705.39  180.0000  0.650292   \n",
       "4           2298  273.814  -0.000000   87   7763.57  174.9290  0.636515   \n",
       "...          ...      ...        ...  ...       ...       ...       ...   \n",
       "1880195  1879595    0.000  -0.000000   41  10803.50  134.1640  0.660371   \n",
       "1880196  1879596  333.435  -0.111111   41  10789.50  108.1670  0.671148   \n",
       "1880197  1879597  292.380  -0.333333   42  10789.50  108.1670  0.683953   \n",
       "1880198  1879598  280.305   0.555556   46  10775.50   84.8528  0.683953   \n",
       "1880199  1879599  276.340   0.444444   48  10761.60   60.0000  0.660779   \n",
       "\n",
       "         landcover    precipit    Slope      TRI      TWI  RoadClass2  \\\n",
       "0               20  378.295428  6.09459  6.00000  7.24768       -9999   \n",
       "1               20  378.295428  4.52436  4.89898  5.93787       -9999   \n",
       "2               20  378.547558  4.14709  4.35890  7.81703       -9999   \n",
       "3               20  378.547558  4.14709  4.35890  7.81703       -9999   \n",
       "4               20  378.547558  4.67072  4.58258  7.00450       -9999   \n",
       "...            ...         ...      ...      ...      ...         ...   \n",
       "1880195         80  372.430568  2.50099  2.44949  7.91840       -9999   \n",
       "1880196         80  372.430568  2.79575  3.00000  9.05959       -9999   \n",
       "1880197         80  372.430568  5.73198  6.00000  7.08631       -9999   \n",
       "1880198         80  372.430568  6.96049  7.81025  5.50424           1   \n",
       "1880199         80  372.430568  2.83043  5.74456  6.40818           1   \n",
       "\n",
       "         RoadClass1  Traffic  Population                    geometry  \n",
       "0                 0    -9999  -9999.0000  POINT (116.08000 39.80167)  \n",
       "1                 0    -9999  -9999.0000  POINT (116.08028 39.80167)  \n",
       "2                 0    -9999  -9999.0000  POINT (116.08056 39.80167)  \n",
       "3                 0    -9999  -9999.0000  POINT (116.08083 39.80167)  \n",
       "4                 0    -9999  -9999.0000  POINT (116.08111 39.80167)  \n",
       "...             ...      ...         ...                         ...  \n",
       "1880195           0    -9999     24.1262  POINT (116.23861 40.12500)  \n",
       "1880196           0    -9999     21.7829  POINT (116.23889 40.12500)  \n",
       "1880197           0    -9999     21.7829  POINT (116.23917 40.12500)  \n",
       "1880198           1    -9999     21.7829  POINT (116.23944 40.12500)  \n",
       "1880199           1    -9999     24.7400  POINT (116.23972 40.12500)  \n",
       "\n",
       "[1880200 rows x 17 columns]"
      ]
     },
     "execution_count": 87,
     "metadata": {},
     "output_type": "execute_result"
    }
   ],
   "source": [
    "path =r\"C:\\Users\\10125\\OneDrive - UW-Madison\\22 Summer\\arcgis_data\\dem6point.shp\"\n",
    "file = gpd.read_file(path)\n",
    "file"
   ]
  },
  {
   "cell_type": "code",
   "execution_count": 88,
   "id": "a6daabff",
   "metadata": {},
   "outputs": [],
   "source": [
    "file[\"Traffic\"] = file[\"Traffic\"].clip(lower =0)\n",
    "file[\"Population\"] = file[\"Population\"].clip(lower =0)\n",
    "#data[\"RoadClass2\"] = data[\"RoadClass2\"].clip(lower =0)\n",
    "#data[\"RoadClass1\"] = data[\"RoadClass1\"].clip(lower =0)\n",
    "file = file.drop(columns=['RoadClass2','RoadClass1'])\n",
    "predict_attribute = file.iloc[:,1:-1]"
   ]
  },
  {
   "cell_type": "code",
   "execution_count": 89,
   "id": "5f8967ba",
   "metadata": {
    "scrolled": true
   },
   "outputs": [
    {
     "data": {
      "text/html": [
       "<div>\n",
       "<style scoped>\n",
       "    .dataframe tbody tr th:only-of-type {\n",
       "        vertical-align: middle;\n",
       "    }\n",
       "\n",
       "    .dataframe tbody tr th {\n",
       "        vertical-align: top;\n",
       "    }\n",
       "\n",
       "    .dataframe thead th {\n",
       "        text-align: right;\n",
       "    }\n",
       "</style>\n",
       "<table border=\"1\" class=\"dataframe\">\n",
       "  <thead>\n",
       "    <tr style=\"text-align: right;\">\n",
       "      <th></th>\n",
       "      <th>FID_1</th>\n",
       "      <th>Aspect</th>\n",
       "      <th>Curvature</th>\n",
       "      <th>dem</th>\n",
       "      <th>dis2riv</th>\n",
       "      <th>dis2road</th>\n",
       "      <th>FVC</th>\n",
       "      <th>landcover</th>\n",
       "      <th>precipit</th>\n",
       "      <th>Slope</th>\n",
       "      <th>TRI</th>\n",
       "      <th>TWI</th>\n",
       "      <th>Traffic</th>\n",
       "      <th>Population</th>\n",
       "      <th>geometry</th>\n",
       "    </tr>\n",
       "  </thead>\n",
       "  <tbody>\n",
       "    <tr>\n",
       "      <th>0</th>\n",
       "      <td>2294</td>\n",
       "      <td>284.744</td>\n",
       "      <td>-0.111111</td>\n",
       "      <td>80</td>\n",
       "      <td>7647.23</td>\n",
       "      <td>180.0000</td>\n",
       "      <td>0.635836</td>\n",
       "      <td>20</td>\n",
       "      <td>378.295428</td>\n",
       "      <td>6.09459</td>\n",
       "      <td>6.00000</td>\n",
       "      <td>7.24768</td>\n",
       "      <td>0</td>\n",
       "      <td>0.0000</td>\n",
       "      <td>POINT (116.08000 39.80167)</td>\n",
       "    </tr>\n",
       "    <tr>\n",
       "      <th>1</th>\n",
       "      <td>2295</td>\n",
       "      <td>285.945</td>\n",
       "      <td>0.222222</td>\n",
       "      <td>82</td>\n",
       "      <td>7676.31</td>\n",
       "      <td>180.0000</td>\n",
       "      <td>0.635836</td>\n",
       "      <td>20</td>\n",
       "      <td>378.295428</td>\n",
       "      <td>4.52436</td>\n",
       "      <td>4.89898</td>\n",
       "      <td>5.93787</td>\n",
       "      <td>0</td>\n",
       "      <td>0.0000</td>\n",
       "      <td>POINT (116.08028 39.80167)</td>\n",
       "    </tr>\n",
       "    <tr>\n",
       "      <th>2</th>\n",
       "      <td>2296</td>\n",
       "      <td>282.995</td>\n",
       "      <td>-0.222222</td>\n",
       "      <td>84</td>\n",
       "      <td>7705.39</td>\n",
       "      <td>180.0000</td>\n",
       "      <td>0.658358</td>\n",
       "      <td>20</td>\n",
       "      <td>378.547558</td>\n",
       "      <td>4.14709</td>\n",
       "      <td>4.35890</td>\n",
       "      <td>7.81703</td>\n",
       "      <td>0</td>\n",
       "      <td>0.0000</td>\n",
       "      <td>POINT (116.08056 39.80167)</td>\n",
       "    </tr>\n",
       "    <tr>\n",
       "      <th>3</th>\n",
       "      <td>2297</td>\n",
       "      <td>282.995</td>\n",
       "      <td>-0.222222</td>\n",
       "      <td>85</td>\n",
       "      <td>7705.39</td>\n",
       "      <td>180.0000</td>\n",
       "      <td>0.650292</td>\n",
       "      <td>20</td>\n",
       "      <td>378.547558</td>\n",
       "      <td>4.14709</td>\n",
       "      <td>4.35890</td>\n",
       "      <td>7.81703</td>\n",
       "      <td>0</td>\n",
       "      <td>0.0000</td>\n",
       "      <td>POINT (116.08083 39.80167)</td>\n",
       "    </tr>\n",
       "    <tr>\n",
       "      <th>4</th>\n",
       "      <td>2298</td>\n",
       "      <td>273.814</td>\n",
       "      <td>-0.000000</td>\n",
       "      <td>87</td>\n",
       "      <td>7763.57</td>\n",
       "      <td>174.9290</td>\n",
       "      <td>0.636515</td>\n",
       "      <td>20</td>\n",
       "      <td>378.547558</td>\n",
       "      <td>4.67072</td>\n",
       "      <td>4.58258</td>\n",
       "      <td>7.00450</td>\n",
       "      <td>0</td>\n",
       "      <td>0.0000</td>\n",
       "      <td>POINT (116.08111 39.80167)</td>\n",
       "    </tr>\n",
       "    <tr>\n",
       "      <th>...</th>\n",
       "      <td>...</td>\n",
       "      <td>...</td>\n",
       "      <td>...</td>\n",
       "      <td>...</td>\n",
       "      <td>...</td>\n",
       "      <td>...</td>\n",
       "      <td>...</td>\n",
       "      <td>...</td>\n",
       "      <td>...</td>\n",
       "      <td>...</td>\n",
       "      <td>...</td>\n",
       "      <td>...</td>\n",
       "      <td>...</td>\n",
       "      <td>...</td>\n",
       "      <td>...</td>\n",
       "    </tr>\n",
       "    <tr>\n",
       "      <th>1880195</th>\n",
       "      <td>1879595</td>\n",
       "      <td>0.000</td>\n",
       "      <td>-0.000000</td>\n",
       "      <td>41</td>\n",
       "      <td>10803.50</td>\n",
       "      <td>134.1640</td>\n",
       "      <td>0.660371</td>\n",
       "      <td>80</td>\n",
       "      <td>372.430568</td>\n",
       "      <td>2.50099</td>\n",
       "      <td>2.44949</td>\n",
       "      <td>7.91840</td>\n",
       "      <td>0</td>\n",
       "      <td>24.1262</td>\n",
       "      <td>POINT (116.23861 40.12500)</td>\n",
       "    </tr>\n",
       "    <tr>\n",
       "      <th>1880196</th>\n",
       "      <td>1879596</td>\n",
       "      <td>333.435</td>\n",
       "      <td>-0.111111</td>\n",
       "      <td>41</td>\n",
       "      <td>10789.50</td>\n",
       "      <td>108.1670</td>\n",
       "      <td>0.671148</td>\n",
       "      <td>80</td>\n",
       "      <td>372.430568</td>\n",
       "      <td>2.79575</td>\n",
       "      <td>3.00000</td>\n",
       "      <td>9.05959</td>\n",
       "      <td>0</td>\n",
       "      <td>21.7829</td>\n",
       "      <td>POINT (116.23889 40.12500)</td>\n",
       "    </tr>\n",
       "    <tr>\n",
       "      <th>1880197</th>\n",
       "      <td>1879597</td>\n",
       "      <td>292.380</td>\n",
       "      <td>-0.333333</td>\n",
       "      <td>42</td>\n",
       "      <td>10789.50</td>\n",
       "      <td>108.1670</td>\n",
       "      <td>0.683953</td>\n",
       "      <td>80</td>\n",
       "      <td>372.430568</td>\n",
       "      <td>5.73198</td>\n",
       "      <td>6.00000</td>\n",
       "      <td>7.08631</td>\n",
       "      <td>0</td>\n",
       "      <td>21.7829</td>\n",
       "      <td>POINT (116.23917 40.12500)</td>\n",
       "    </tr>\n",
       "    <tr>\n",
       "      <th>1880198</th>\n",
       "      <td>1879598</td>\n",
       "      <td>280.305</td>\n",
       "      <td>0.555556</td>\n",
       "      <td>46</td>\n",
       "      <td>10775.50</td>\n",
       "      <td>84.8528</td>\n",
       "      <td>0.683953</td>\n",
       "      <td>80</td>\n",
       "      <td>372.430568</td>\n",
       "      <td>6.96049</td>\n",
       "      <td>7.81025</td>\n",
       "      <td>5.50424</td>\n",
       "      <td>0</td>\n",
       "      <td>21.7829</td>\n",
       "      <td>POINT (116.23944 40.12500)</td>\n",
       "    </tr>\n",
       "    <tr>\n",
       "      <th>1880199</th>\n",
       "      <td>1879599</td>\n",
       "      <td>276.340</td>\n",
       "      <td>0.444444</td>\n",
       "      <td>48</td>\n",
       "      <td>10761.60</td>\n",
       "      <td>60.0000</td>\n",
       "      <td>0.660779</td>\n",
       "      <td>80</td>\n",
       "      <td>372.430568</td>\n",
       "      <td>2.83043</td>\n",
       "      <td>5.74456</td>\n",
       "      <td>6.40818</td>\n",
       "      <td>0</td>\n",
       "      <td>24.7400</td>\n",
       "      <td>POINT (116.23972 40.12500)</td>\n",
       "    </tr>\n",
       "  </tbody>\n",
       "</table>\n",
       "<p>1880200 rows × 15 columns</p>\n",
       "</div>"
      ],
      "text/plain": [
       "           FID_1   Aspect  Curvature  dem   dis2riv  dis2road       FVC  \\\n",
       "0           2294  284.744  -0.111111   80   7647.23  180.0000  0.635836   \n",
       "1           2295  285.945   0.222222   82   7676.31  180.0000  0.635836   \n",
       "2           2296  282.995  -0.222222   84   7705.39  180.0000  0.658358   \n",
       "3           2297  282.995  -0.222222   85   7705.39  180.0000  0.650292   \n",
       "4           2298  273.814  -0.000000   87   7763.57  174.9290  0.636515   \n",
       "...          ...      ...        ...  ...       ...       ...       ...   \n",
       "1880195  1879595    0.000  -0.000000   41  10803.50  134.1640  0.660371   \n",
       "1880196  1879596  333.435  -0.111111   41  10789.50  108.1670  0.671148   \n",
       "1880197  1879597  292.380  -0.333333   42  10789.50  108.1670  0.683953   \n",
       "1880198  1879598  280.305   0.555556   46  10775.50   84.8528  0.683953   \n",
       "1880199  1879599  276.340   0.444444   48  10761.60   60.0000  0.660779   \n",
       "\n",
       "         landcover    precipit    Slope      TRI      TWI  Traffic  \\\n",
       "0               20  378.295428  6.09459  6.00000  7.24768        0   \n",
       "1               20  378.295428  4.52436  4.89898  5.93787        0   \n",
       "2               20  378.547558  4.14709  4.35890  7.81703        0   \n",
       "3               20  378.547558  4.14709  4.35890  7.81703        0   \n",
       "4               20  378.547558  4.67072  4.58258  7.00450        0   \n",
       "...            ...         ...      ...      ...      ...      ...   \n",
       "1880195         80  372.430568  2.50099  2.44949  7.91840        0   \n",
       "1880196         80  372.430568  2.79575  3.00000  9.05959        0   \n",
       "1880197         80  372.430568  5.73198  6.00000  7.08631        0   \n",
       "1880198         80  372.430568  6.96049  7.81025  5.50424        0   \n",
       "1880199         80  372.430568  2.83043  5.74456  6.40818        0   \n",
       "\n",
       "         Population                    geometry  \n",
       "0            0.0000  POINT (116.08000 39.80167)  \n",
       "1            0.0000  POINT (116.08028 39.80167)  \n",
       "2            0.0000  POINT (116.08056 39.80167)  \n",
       "3            0.0000  POINT (116.08083 39.80167)  \n",
       "4            0.0000  POINT (116.08111 39.80167)  \n",
       "...             ...                         ...  \n",
       "1880195     24.1262  POINT (116.23861 40.12500)  \n",
       "1880196     21.7829  POINT (116.23889 40.12500)  \n",
       "1880197     21.7829  POINT (116.23917 40.12500)  \n",
       "1880198     21.7829  POINT (116.23944 40.12500)  \n",
       "1880199     24.7400  POINT (116.23972 40.12500)  \n",
       "\n",
       "[1880200 rows x 15 columns]"
      ]
     },
     "execution_count": 89,
     "metadata": {},
     "output_type": "execute_result"
    }
   ],
   "source": [
    "file"
   ]
  },
  {
   "cell_type": "markdown",
   "id": "8238cacd",
   "metadata": {},
   "source": [
    "#Prediction phase\n",
    "path =r\"C:\\Users\\10125\\OneDrive - UW-Madison\\22 Summer\\arcgis_data\\dem6point.shp\"\n",
    "file = gpd.read_file(path)\n",
    "file = pd.DataFrame(file)\n",
    "file[\"Traffic\"] = file[\"Traffic\"].clip(lower =0)\n",
    "predict_attribute = file.iloc[:,2:-1]"
   ]
  },
  {
   "cell_type": "code",
   "execution_count": 109,
   "id": "c0127b83",
   "metadata": {},
   "outputs": [
    {
     "name": "stdout",
     "output_type": "stream",
     "text": [
      "10 0.8624282694050136\n",
      "15 0.8738296587133796\n",
      "20 0.8778314708547267\n",
      "25 0.8812292358803987\n",
      "30 0.8795681063122923\n",
      "35 0.8796436122017518\n",
      "40 0.8824373301117487\n",
      "45 0.8762458471760797\n"
     ]
    }
   ],
   "source": [
    "for i in range(10,49,5):\n",
    "    adb = xgb.XGBClassifier(objective=\"binary:logistic\", max_depth =3,n_estimators=i)\n",
    "    adb.fit(X_train,y_train)\n",
    "    roc = roc_auc_score(y_test, adb.predict_proba(X_test)[:, 1])\n",
    "    print(i,roc)\n",
    "    prediction = adb.predict_proba(predict_attribute)\n",
    "    file['label'] = prediction[:,1]\n",
    "    path = r\"C:\\Users\\10125\\OneDrive - UW-Madison\\22 Summer\\ADBOOST\\XGB3_\"+str(i)+\".shp\"\n",
    "    file.to_file(path)"
   ]
  },
  {
   "cell_type": "code",
   "execution_count": 103,
   "id": "e7524716",
   "metadata": {},
   "outputs": [
    {
     "name": "stderr",
     "output_type": "stream",
     "text": [
      "C:\\ProgramData\\Anaconda3\\envs\\arcgis\\lib\\site-packages\\sklearn\\base.py:443: UserWarning: X has feature names, but AdaBoostClassifier was fitted without feature names\n",
      "  warnings.warn(\n"
     ]
    }
   ],
   "source": [
    "# prediction = xgbo.predict_proba(predict_attribute)\n",
    "# file['label'] = prediction[:,1]\n",
    "prediction = adb.predict_proba(predict_attribute)[:, 1]\n",
    "file['label'] = prediction"
   ]
  },
  {
   "cell_type": "code",
   "execution_count": 98,
   "id": "70d88c25",
   "metadata": {},
   "outputs": [],
   "source": [
    "file['label'] = prediction"
   ]
  },
  {
   "cell_type": "code",
   "execution_count": 104,
   "id": "11b6ec84",
   "metadata": {
    "scrolled": true
   },
   "outputs": [
    {
     "data": {
      "text/html": [
       "<div>\n",
       "<style scoped>\n",
       "    .dataframe tbody tr th:only-of-type {\n",
       "        vertical-align: middle;\n",
       "    }\n",
       "\n",
       "    .dataframe tbody tr th {\n",
       "        vertical-align: top;\n",
       "    }\n",
       "\n",
       "    .dataframe thead th {\n",
       "        text-align: right;\n",
       "    }\n",
       "</style>\n",
       "<table border=\"1\" class=\"dataframe\">\n",
       "  <thead>\n",
       "    <tr style=\"text-align: right;\">\n",
       "      <th></th>\n",
       "      <th>geometry</th>\n",
       "      <th>label</th>\n",
       "    </tr>\n",
       "  </thead>\n",
       "  <tbody>\n",
       "    <tr>\n",
       "      <th>0</th>\n",
       "      <td>POINT (116.08000 39.80167)</td>\n",
       "      <td>0.288679</td>\n",
       "    </tr>\n",
       "    <tr>\n",
       "      <th>1</th>\n",
       "      <td>POINT (116.08028 39.80167)</td>\n",
       "      <td>0.209124</td>\n",
       "    </tr>\n",
       "    <tr>\n",
       "      <th>2</th>\n",
       "      <td>POINT (116.08056 39.80167)</td>\n",
       "      <td>0.289891</td>\n",
       "    </tr>\n",
       "    <tr>\n",
       "      <th>3</th>\n",
       "      <td>POINT (116.08083 39.80167)</td>\n",
       "      <td>0.289891</td>\n",
       "    </tr>\n",
       "    <tr>\n",
       "      <th>4</th>\n",
       "      <td>POINT (116.08111 39.80167)</td>\n",
       "      <td>0.261882</td>\n",
       "    </tr>\n",
       "    <tr>\n",
       "      <th>...</th>\n",
       "      <td>...</td>\n",
       "      <td>...</td>\n",
       "    </tr>\n",
       "    <tr>\n",
       "      <th>1880195</th>\n",
       "      <td>POINT (116.23861 40.12500)</td>\n",
       "      <td>0.292536</td>\n",
       "    </tr>\n",
       "    <tr>\n",
       "      <th>1880196</th>\n",
       "      <td>POINT (116.23889 40.12500)</td>\n",
       "      <td>0.254374</td>\n",
       "    </tr>\n",
       "    <tr>\n",
       "      <th>1880197</th>\n",
       "      <td>POINT (116.23917 40.12500)</td>\n",
       "      <td>0.211926</td>\n",
       "    </tr>\n",
       "    <tr>\n",
       "      <th>1880198</th>\n",
       "      <td>POINT (116.23944 40.12500)</td>\n",
       "      <td>0.203958</td>\n",
       "    </tr>\n",
       "    <tr>\n",
       "      <th>1880199</th>\n",
       "      <td>POINT (116.23972 40.12500)</td>\n",
       "      <td>0.238569</td>\n",
       "    </tr>\n",
       "  </tbody>\n",
       "</table>\n",
       "<p>1880200 rows × 2 columns</p>\n",
       "</div>"
      ],
      "text/plain": [
       "                           geometry     label\n",
       "0        POINT (116.08000 39.80167)  0.288679\n",
       "1        POINT (116.08028 39.80167)  0.209124\n",
       "2        POINT (116.08056 39.80167)  0.289891\n",
       "3        POINT (116.08083 39.80167)  0.289891\n",
       "4        POINT (116.08111 39.80167)  0.261882\n",
       "...                             ...       ...\n",
       "1880195  POINT (116.23861 40.12500)  0.292536\n",
       "1880196  POINT (116.23889 40.12500)  0.254374\n",
       "1880197  POINT (116.23917 40.12500)  0.211926\n",
       "1880198  POINT (116.23944 40.12500)  0.203958\n",
       "1880199  POINT (116.23972 40.12500)  0.238569\n",
       "\n",
       "[1880200 rows x 2 columns]"
      ]
     },
     "execution_count": 104,
     "metadata": {},
     "output_type": "execute_result"
    }
   ],
   "source": [
    "file"
   ]
  },
  {
   "cell_type": "code",
   "execution_count": 93,
   "id": "ef34f255",
   "metadata": {},
   "outputs": [
    {
     "data": {
      "text/html": [
       "<div>\n",
       "<style scoped>\n",
       "    .dataframe tbody tr th:only-of-type {\n",
       "        vertical-align: middle;\n",
       "    }\n",
       "\n",
       "    .dataframe tbody tr th {\n",
       "        vertical-align: top;\n",
       "    }\n",
       "\n",
       "    .dataframe thead th {\n",
       "        text-align: right;\n",
       "    }\n",
       "</style>\n",
       "<table border=\"1\" class=\"dataframe\">\n",
       "  <thead>\n",
       "    <tr style=\"text-align: right;\">\n",
       "      <th></th>\n",
       "      <th>geometry</th>\n",
       "      <th>label</th>\n",
       "    </tr>\n",
       "  </thead>\n",
       "  <tbody>\n",
       "    <tr>\n",
       "      <th>0</th>\n",
       "      <td>POINT (116.08000 39.80167)</td>\n",
       "      <td>0.062596</td>\n",
       "    </tr>\n",
       "    <tr>\n",
       "      <th>1</th>\n",
       "      <td>POINT (116.08028 39.80167)</td>\n",
       "      <td>0.058712</td>\n",
       "    </tr>\n",
       "    <tr>\n",
       "      <th>2</th>\n",
       "      <td>POINT (116.08056 39.80167)</td>\n",
       "      <td>0.060548</td>\n",
       "    </tr>\n",
       "    <tr>\n",
       "      <th>3</th>\n",
       "      <td>POINT (116.08083 39.80167)</td>\n",
       "      <td>0.060548</td>\n",
       "    </tr>\n",
       "    <tr>\n",
       "      <th>4</th>\n",
       "      <td>POINT (116.08111 39.80167)</td>\n",
       "      <td>0.061574</td>\n",
       "    </tr>\n",
       "    <tr>\n",
       "      <th>...</th>\n",
       "      <td>...</td>\n",
       "      <td>...</td>\n",
       "    </tr>\n",
       "    <tr>\n",
       "      <th>1880195</th>\n",
       "      <td>POINT (116.23861 40.12500)</td>\n",
       "      <td>0.066218</td>\n",
       "    </tr>\n",
       "    <tr>\n",
       "      <th>1880196</th>\n",
       "      <td>POINT (116.23889 40.12500)</td>\n",
       "      <td>0.086135</td>\n",
       "    </tr>\n",
       "    <tr>\n",
       "      <th>1880197</th>\n",
       "      <td>POINT (116.23917 40.12500)</td>\n",
       "      <td>0.068885</td>\n",
       "    </tr>\n",
       "    <tr>\n",
       "      <th>1880198</th>\n",
       "      <td>POINT (116.23944 40.12500)</td>\n",
       "      <td>0.052229</td>\n",
       "    </tr>\n",
       "    <tr>\n",
       "      <th>1880199</th>\n",
       "      <td>POINT (116.23972 40.12500)</td>\n",
       "      <td>0.062783</td>\n",
       "    </tr>\n",
       "  </tbody>\n",
       "</table>\n",
       "<p>1880200 rows × 2 columns</p>\n",
       "</div>"
      ],
      "text/plain": [
       "                           geometry     label\n",
       "0        POINT (116.08000 39.80167)  0.062596\n",
       "1        POINT (116.08028 39.80167)  0.058712\n",
       "2        POINT (116.08056 39.80167)  0.060548\n",
       "3        POINT (116.08083 39.80167)  0.060548\n",
       "4        POINT (116.08111 39.80167)  0.061574\n",
       "...                             ...       ...\n",
       "1880195  POINT (116.23861 40.12500)  0.066218\n",
       "1880196  POINT (116.23889 40.12500)  0.086135\n",
       "1880197  POINT (116.23917 40.12500)  0.068885\n",
       "1880198  POINT (116.23944 40.12500)  0.052229\n",
       "1880199  POINT (116.23972 40.12500)  0.062783\n",
       "\n",
       "[1880200 rows x 2 columns]"
      ]
     },
     "execution_count": 93,
     "metadata": {},
     "output_type": "execute_result"
    }
   ],
   "source": [
    "drop_col = ['FID_1',\n",
    " 'Aspect',\n",
    " 'Curvature',\n",
    " 'dem',\n",
    " 'dis2riv',\n",
    " 'dis2road',\n",
    " 'FVC',\n",
    " 'landcover',\n",
    " 'precipit',\n",
    " 'Slope',\n",
    " 'TRI',\n",
    " 'TWI',\n",
    " 'Traffic',\n",
    " 'Population']\n",
    "file = file.drop(columns=drop_col)\n",
    "file"
   ]
  },
  {
   "cell_type": "code",
   "execution_count": 105,
   "id": "580a66d5",
   "metadata": {},
   "outputs": [],
   "source": [
    "path = r\"C:\\Users\\10125\\OneDrive - UW-Madison\\22 Summer\\prediction\\ADB.shp\"\n",
    "file.to_file(path)"
   ]
  },
  {
   "cell_type": "code",
   "execution_count": null,
   "id": "c2acc42b",
   "metadata": {
    "scrolled": false
   },
   "outputs": [],
   "source": [
    "import arcpy\n",
    "arcpy.conversion.PointToRaster(\n",
    "   r\"C:\\Users\\10125\\OneDrive - UW-Madison\\22 Summer\\prediction\\predict330Log2.shp\",\n",
    "    \"label\",\n",
    "    r\"C:\\Users\\10125\\OneDrive - UW-Madison\\22 Summer\\prediction\\predict330Log2.tif\",\n",
    "    \"MAXIMUM\", \"NONE\", 0.000277777778)"
   ]
  },
  {
   "cell_type": "code",
   "execution_count": null,
   "id": "fe4f4842",
   "metadata": {},
   "outputs": [],
   "source": []
  }
 ],
 "metadata": {
  "kernelspec": {
   "display_name": "Python 3",
   "language": "python",
   "name": "python3"
  },
  "language_info": {
   "codemirror_mode": {
    "name": "ipython",
    "version": 3
   },
   "file_extension": ".py",
   "mimetype": "text/x-python",
   "name": "python",
   "nbconvert_exporter": "python",
   "pygments_lexer": "ipython3",
   "version": "3.9.12"
  }
 },
 "nbformat": 4,
 "nbformat_minor": 5
}
